{
 "cells": [
  {
   "cell_type": "code",
   "execution_count": 1,
   "id": "5adc28e5",
   "metadata": {
    "_cell_guid": "b1076dfc-b9ad-4769-8c92-a6c4dae69d19",
    "_kg_hide-input": true,
    "_uuid": "8f2839f25d086af736a60e9eeb907d3b93b6e0e5",
    "execution": {
     "iopub.execute_input": "2023-11-30T17:56:44.490838Z",
     "iopub.status.busy": "2023-11-30T17:56:44.490260Z",
     "iopub.status.idle": "2023-11-30T17:56:44.513518Z",
     "shell.execute_reply": "2023-11-30T17:56:44.511314Z"
    },
    "papermill": {
     "duration": 0.051721,
     "end_time": "2023-11-30T17:56:44.516261",
     "exception": false,
     "start_time": "2023-11-30T17:56:44.464540",
     "status": "completed"
    },
    "tags": []
   },
   "outputs": [
    {
     "name": "stdout",
     "output_type": "stream",
     "text": [
      "/kaggle/input/business-analysis-junior/Business Analyst (junior).xlsx\n"
     ]
    }
   ],
   "source": [
    "import numpy as np # linear algebra\n",
    "import pandas as pd # data processing, CSV file I/O (e.g. pd.read_csv)\n",
    "\n",
    "import os\n",
    "for dirname, _, filenames in os.walk('/kaggle/input'):\n",
    "    for filename in filenames:\n",
    "        print(os.path.join(dirname, filename))"
   ]
  },
  {
   "cell_type": "markdown",
   "id": "c671c073",
   "metadata": {
    "papermill": {
     "duration": 0.022158,
     "end_time": "2023-11-30T17:56:44.562290",
     "exception": false,
     "start_time": "2023-11-30T17:56:44.540132",
     "status": "completed"
    },
    "tags": []
   },
   "source": [
    "<img src='https://babok-school.ru/wp-content/uploads/2021/09/prfcar0.png' width=1400 height=400>"
   ]
  },
  {
   "cell_type": "markdown",
   "id": "259e8557",
   "metadata": {
    "papermill": {
     "duration": 0.021556,
     "end_time": "2023-11-30T17:56:44.608054",
     "exception": false,
     "start_time": "2023-11-30T17:56:44.586498",
     "status": "completed"
    },
    "tags": []
   },
   "source": [
    "<span style=\"color:black; font-size:20px;\">CREDIT:</span><br>\n",
    "<span style=\"color:red; font-size:20px;\">\n",
    "All credit for this notebook goes to Igor Panteleev. Thank you for giving me, and other Kaggle users the opportunity to practise and advance as data scientists!\n",
    "</span>"
   ]
  },
  {
   "cell_type": "markdown",
   "id": "242d172b",
   "metadata": {
    "papermill": {
     "duration": 0.022096,
     "end_time": "2023-11-30T17:56:44.653442",
     "exception": false,
     "start_time": "2023-11-30T17:56:44.631346",
     "status": "completed"
    },
    "tags": []
   },
   "source": [
    "<h1 style=\"text-align:center; \n",
    "          border-radius:5px; \n",
    "          background-color: #37373b; \n",
    "          color:#f5f2e9; \n",
    "          padding:15px;\n",
    "          letter-spacing: 2px; \n",
    "          font-family: 'JetBrains Mono';\n",
    "          font-size:35px;\n",
    "          border-left: 3px solid #f2bd1d; \n",
    "          border-bottom: 3px outset #f2bd1d;\n",
    "          margin-bottom: 10px;\"> Test task for the position of Business Analyst (junior)</h1>"
   ]
  },
  {
   "cell_type": "markdown",
   "id": "db1ea01f",
   "metadata": {
    "papermill": {
     "duration": 0.021468,
     "end_time": "2023-11-30T17:56:44.697040",
     "exception": false,
     "start_time": "2023-11-30T17:56:44.675572",
     "status": "completed"
    },
    "tags": []
   },
   "source": [
    "<hr>\n",
    "\n",
    "<p style='font-size: 20px; font-family: Roboto;'>Preamble<br><br>\n",
    "    In August 2023, I applied for the position of Business Analyst (Junior). I was asked to be tested through a Telegram bot. The results of this testing + additional analysis are presented in this notebook.</p>\n",
    "<hr>"
   ]
  },
  {
   "cell_type": "markdown",
   "id": "a6935653",
   "metadata": {
    "papermill": {
     "duration": 0.02305,
     "end_time": "2023-11-30T17:56:44.741687",
     "exception": false,
     "start_time": "2023-11-30T17:56:44.718637",
     "status": "completed"
    },
    "tags": []
   },
   "source": [
    "\n",
    "<h1 style=\"\n",
    "          text-align: center;\n",
    "          border-radius:5px; \n",
    "          background-color: #37373b; \n",
    "          color:#f5f2e9; \n",
    "          padding:15px;\n",
    "          letter-spacing: 2px; \n",
    "          font-family: 'JetBrains Mono';\n",
    "          font-size:35px;\n",
    "          border-left: 3px solid #f2bd1d; \n",
    "          border-bottom: 3px outset #f2bd1d;\n",
    "          margin-bottom: 10px;\"> EDA process</h1>"
   ]
  },
  {
   "cell_type": "markdown",
   "id": "f097bbea",
   "metadata": {
    "papermill": {
     "duration": 0.019596,
     "end_time": "2023-11-30T17:56:44.782300",
     "exception": false,
     "start_time": "2023-11-30T17:56:44.762704",
     "status": "completed"
    },
    "tags": []
   },
   "source": [
    "Understand the characteristics of the data at hand.<br>\n",
    "• .head()<br>\n",
    "• .info()<br>\n",
    "• msno.matrix(...)<br>\n",
    "• .astype(...)<br>\n",
    "• .describe()<br>"
   ]
  },
  {
   "cell_type": "code",
   "execution_count": 2,
   "id": "b920b409",
   "metadata": {
    "execution": {
     "iopub.execute_input": "2023-11-30T17:56:44.825552Z",
     "iopub.status.busy": "2023-11-30T17:56:44.825141Z",
     "iopub.status.idle": "2023-11-30T17:56:46.471990Z",
     "shell.execute_reply": "2023-11-30T17:56:46.470216Z"
    },
    "papermill": {
     "duration": 1.672951,
     "end_time": "2023-11-30T17:56:46.475020",
     "exception": false,
     "start_time": "2023-11-30T17:56:44.802069",
     "status": "completed"
    },
    "tags": []
   },
   "outputs": [
    {
     "name": "stderr",
     "output_type": "stream",
     "text": [
      "/opt/conda/lib/python3.10/site-packages/scipy/__init__.py:146: UserWarning: A NumPy version >=1.16.5 and <1.23.0 is required for this version of SciPy (detected version 1.23.5\n",
      "  warnings.warn(f\"A NumPy version >={np_minversion} and <{np_maxversion}\"\n"
     ]
    }
   ],
   "source": [
    "import pandas as pd\n",
    "import numpy as np\n",
    "import seaborn as sns\n",
    "import matplotlib.pyplot as plt\n",
    "import missingno as msno\n",
    "import warnings\n",
    "warnings.filterwarnings(\"ignore\")"
   ]
  },
  {
   "cell_type": "code",
   "execution_count": 3,
   "id": "b2480016",
   "metadata": {
    "execution": {
     "iopub.execute_input": "2023-11-30T17:56:46.520697Z",
     "iopub.status.busy": "2023-11-30T17:56:46.519356Z",
     "iopub.status.idle": "2023-11-30T17:57:35.223452Z",
     "shell.execute_reply": "2023-11-30T17:57:35.221754Z"
    },
    "papermill": {
     "duration": 48.730808,
     "end_time": "2023-11-30T17:57:35.226802",
     "exception": false,
     "start_time": "2023-11-30T17:56:46.495994",
     "status": "completed"
    },
    "tags": []
   },
   "outputs": [],
   "source": [
    "# Reading datasets\n",
    "data_2019 = pd.read_excel('/kaggle/input/business-analysis-junior/Business Analyst (junior).xlsx', sheet_name='2019')\n",
    "data_2020 = pd.read_excel('/kaggle/input/business-analysis-junior/Business Analyst (junior).xlsx', sheet_name='2020')"
   ]
  },
  {
   "cell_type": "markdown",
   "id": "1ca16ce9",
   "metadata": {
    "papermill": {
     "duration": 0.023184,
     "end_time": "2023-11-30T17:57:35.273297",
     "exception": false,
     "start_time": "2023-11-30T17:57:35.250113",
     "status": "completed"
    },
    "tags": []
   },
   "source": [
    "<hr>\n",
    "\n",
    "<p style='font-size: 20px; font-family: Roboto;'>2019 Table"
   ]
  },
  {
   "cell_type": "code",
   "execution_count": 4,
   "id": "790688a0",
   "metadata": {
    "execution": {
     "iopub.execute_input": "2023-11-30T17:57:35.326550Z",
     "iopub.status.busy": "2023-11-30T17:57:35.325893Z",
     "iopub.status.idle": "2023-11-30T17:57:35.474867Z",
     "shell.execute_reply": "2023-11-30T17:57:35.473642Z"
    },
    "papermill": {
     "duration": 0.179103,
     "end_time": "2023-11-30T17:57:35.477859",
     "exception": false,
     "start_time": "2023-11-30T17:57:35.298756",
     "status": "completed"
    },
    "tags": []
   },
   "outputs": [
    {
     "data": {
      "text/html": [
       "<div>\n",
       "<style scoped>\n",
       "    .dataframe tbody tr th:only-of-type {\n",
       "        vertical-align: middle;\n",
       "    }\n",
       "\n",
       "    .dataframe tbody tr th {\n",
       "        vertical-align: top;\n",
       "    }\n",
       "\n",
       "    .dataframe thead th {\n",
       "        text-align: right;\n",
       "    }\n",
       "</style>\n",
       "<table border=\"1\" class=\"dataframe\">\n",
       "  <thead>\n",
       "    <tr style=\"text-align: right;\">\n",
       "      <th></th>\n",
       "      <th>Order number</th>\n",
       "      <th>Client ID</th>\n",
       "      <th>Product code</th>\n",
       "      <th>Date of delivery</th>\n",
       "      <th>Delivery amount</th>\n",
       "    </tr>\n",
       "  </thead>\n",
       "  <tbody>\n",
       "    <tr>\n",
       "      <th>0</th>\n",
       "      <td>97058.0</td>\n",
       "      <td>7121.0</td>\n",
       "      <td>494843.0</td>\n",
       "      <td>2019-01-24</td>\n",
       "      <td>9565</td>\n",
       "    </tr>\n",
       "    <tr>\n",
       "      <th>1</th>\n",
       "      <td>2968.0</td>\n",
       "      <td>7167.0</td>\n",
       "      <td>111937.0</td>\n",
       "      <td>2019-01-29</td>\n",
       "      <td>18907</td>\n",
       "    </tr>\n",
       "    <tr>\n",
       "      <th>2</th>\n",
       "      <td>2968.0</td>\n",
       "      <td>7167.0</td>\n",
       "      <td>218889.0</td>\n",
       "      <td>2019-01-29</td>\n",
       "      <td>54132</td>\n",
       "    </tr>\n",
       "    <tr>\n",
       "      <th>3</th>\n",
       "      <td>45863.0</td>\n",
       "      <td>7136.0</td>\n",
       "      <td>495715.0</td>\n",
       "      <td>2019-02-07</td>\n",
       "      <td>28023</td>\n",
       "    </tr>\n",
       "    <tr>\n",
       "      <th>4</th>\n",
       "      <td>45863.0</td>\n",
       "      <td>7136.0</td>\n",
       "      <td>495716.0</td>\n",
       "      <td>2019-02-07</td>\n",
       "      <td>59120</td>\n",
       "    </tr>\n",
       "  </tbody>\n",
       "</table>\n",
       "</div>"
      ],
      "text/plain": [
       "   Order number  Client ID  Product code Date of delivery  Delivery amount\n",
       "0       97058.0     7121.0      494843.0       2019-01-24             9565\n",
       "1        2968.0     7167.0      111937.0       2019-01-29            18907\n",
       "2        2968.0     7167.0      218889.0       2019-01-29            54132\n",
       "3       45863.0     7136.0      495715.0       2019-02-07            28023\n",
       "4       45863.0     7136.0      495716.0       2019-02-07            59120"
      ]
     },
     "execution_count": 4,
     "metadata": {},
     "output_type": "execute_result"
    }
   ],
   "source": [
    "# Table overview\n",
    "data_2019.head()"
   ]
  },
  {
   "cell_type": "code",
   "execution_count": 5,
   "id": "57a970f1",
   "metadata": {
    "execution": {
     "iopub.execute_input": "2023-11-30T17:57:35.537192Z",
     "iopub.status.busy": "2023-11-30T17:57:35.536129Z",
     "iopub.status.idle": "2023-11-30T17:57:35.563881Z",
     "shell.execute_reply": "2023-11-30T17:57:35.562840Z"
    },
    "papermill": {
     "duration": 0.061813,
     "end_time": "2023-11-30T17:57:35.566638",
     "exception": false,
     "start_time": "2023-11-30T17:57:35.504825",
     "status": "completed"
    },
    "tags": []
   },
   "outputs": [
    {
     "name": "stdout",
     "output_type": "stream",
     "text": [
      "<class 'pandas.core.frame.DataFrame'>\n",
      "RangeIndex: 778 entries, 0 to 777\n",
      "Data columns (total 5 columns):\n",
      " #   Column            Non-Null Count  Dtype         \n",
      "---  ------            --------------  -----         \n",
      " 0   Order number      271 non-null    float64       \n",
      " 1   Client ID         271 non-null    float64       \n",
      " 2   Product code      271 non-null    float64       \n",
      " 3   Date of delivery  271 non-null    datetime64[ns]\n",
      " 4   Delivery amount   778 non-null    int64         \n",
      "dtypes: datetime64[ns](1), float64(3), int64(1)\n",
      "memory usage: 30.5 KB\n"
     ]
    }
   ],
   "source": [
    "# Data type\n",
    "data_2019.info()"
   ]
  },
  {
   "cell_type": "code",
   "execution_count": 6,
   "id": "2a9bd414",
   "metadata": {
    "execution": {
     "iopub.execute_input": "2023-11-30T17:57:35.625690Z",
     "iopub.status.busy": "2023-11-30T17:57:35.624546Z",
     "iopub.status.idle": "2023-11-30T17:57:36.381301Z",
     "shell.execute_reply": "2023-11-30T17:57:36.379350Z"
    },
    "papermill": {
     "duration": 0.791163,
     "end_time": "2023-11-30T17:57:36.385489",
     "exception": false,
     "start_time": "2023-11-30T17:57:35.594326",
     "status": "completed"
    },
    "tags": []
   },
   "outputs": [
    {
     "data": {
      "text/plain": [
       "<Axes: >"
      ]
     },
     "execution_count": 6,
     "metadata": {},
     "output_type": "execute_result"
    },
    {
     "data": {
      "image/png": "[encoded data removed]",
      "text/plain": [
       "<Figure size 2500x1000 with 2 Axes>"
      ]
     },
     "metadata": {},
     "output_type": "display_data"
    }
   ],
   "source": [
    "# Checking for missing data\n",
    "msno.matrix(data_2019)"
   ]
  },
  {
   "cell_type": "code",
   "execution_count": 7,
   "id": "adae3e5a",
   "metadata": {
    "execution": {
     "iopub.execute_input": "2023-11-30T17:57:36.448801Z",
     "iopub.status.busy": "2023-11-30T17:57:36.447702Z",
     "iopub.status.idle": "2023-11-30T17:57:36.461387Z",
     "shell.execute_reply": "2023-11-30T17:57:36.459813Z"
    },
    "papermill": {
     "duration": 0.043503,
     "end_time": "2023-11-30T17:57:36.464527",
     "exception": false,
     "start_time": "2023-11-30T17:57:36.421024",
     "status": "completed"
    },
    "tags": []
   },
   "outputs": [],
   "source": [
    "# Only keeping the rows with complete data\n",
    "# Converting strings to int32\n",
    "data_2019 = data_2019.iloc[:271, :]\n",
    "data_2019 = data_2019.astype({'Client ID':np.int32, 'Order number':np.int32, 'Product code':np.int32})"
   ]
  },
  {
   "cell_type": "code",
   "execution_count": 8,
   "id": "2d66f586",
   "metadata": {
    "execution": {
     "iopub.execute_input": "2023-11-30T17:57:36.513638Z",
     "iopub.status.busy": "2023-11-30T17:57:36.513114Z",
     "iopub.status.idle": "2023-11-30T17:57:37.164784Z",
     "shell.execute_reply": "2023-11-30T17:57:37.163540Z"
    },
    "papermill": {
     "duration": 0.680207,
     "end_time": "2023-11-30T17:57:37.167507",
     "exception": false,
     "start_time": "2023-11-30T17:57:36.487300",
     "status": "completed"
    },
    "tags": []
   },
   "outputs": [
    {
     "data": {
      "text/plain": [
       "<Axes: >"
      ]
     },
     "execution_count": 8,
     "metadata": {},
     "output_type": "execute_result"
    },
    {
     "data": {
      "image/png": "[encoded data removed]",
      "text/plain": [
       "<Figure size 2500x1000 with 2 Axes>"
      ]
     },
     "metadata": {},
     "output_type": "display_data"
    }
   ],
   "source": [
    "# Without missing data\n",
    "msno.matrix(data_2019, color=(0.96, 0.84, 0.56))"
   ]
  },
  {
   "cell_type": "code",
   "execution_count": 9,
   "id": "cb5e12db",
   "metadata": {
    "execution": {
     "iopub.execute_input": "2023-11-30T17:57:37.216955Z",
     "iopub.status.busy": "2023-11-30T17:57:37.215789Z",
     "iopub.status.idle": "2023-11-30T17:57:37.247112Z",
     "shell.execute_reply": "2023-11-30T17:57:37.245929Z"
    },
    "papermill": {
     "duration": 0.058838,
     "end_time": "2023-11-30T17:57:37.249510",
     "exception": false,
     "start_time": "2023-11-30T17:57:37.190672",
     "status": "completed"
    },
    "tags": []
   },
   "outputs": [
    {
     "data": {
      "text/html": [
       "<div>\n",
       "<style scoped>\n",
       "    .dataframe tbody tr th:only-of-type {\n",
       "        vertical-align: middle;\n",
       "    }\n",
       "\n",
       "    .dataframe tbody tr th {\n",
       "        vertical-align: top;\n",
       "    }\n",
       "\n",
       "    .dataframe thead th {\n",
       "        text-align: right;\n",
       "    }\n",
       "</style>\n",
       "<table border=\"1\" class=\"dataframe\">\n",
       "  <thead>\n",
       "    <tr style=\"text-align: right;\">\n",
       "      <th></th>\n",
       "      <th>Order number</th>\n",
       "      <th>Client ID</th>\n",
       "      <th>Product code</th>\n",
       "      <th>Delivery amount</th>\n",
       "    </tr>\n",
       "  </thead>\n",
       "  <tbody>\n",
       "    <tr>\n",
       "      <th>count</th>\n",
       "      <td>271.000000</td>\n",
       "      <td>271.000000</td>\n",
       "      <td>271.000000</td>\n",
       "      <td>271.000000</td>\n",
       "    </tr>\n",
       "    <tr>\n",
       "      <th>mean</th>\n",
       "      <td>40986.944649</td>\n",
       "      <td>7137.667897</td>\n",
       "      <td>446526.763838</td>\n",
       "      <td>35093.892989</td>\n",
       "    </tr>\n",
       "    <tr>\n",
       "      <th>std</th>\n",
       "      <td>27813.750049</td>\n",
       "      <td>18.439502</td>\n",
       "      <td>113515.037259</td>\n",
       "      <td>18974.208401</td>\n",
       "    </tr>\n",
       "    <tr>\n",
       "      <th>min</th>\n",
       "      <td>2968.000000</td>\n",
       "      <td>7110.000000</td>\n",
       "      <td>111864.000000</td>\n",
       "      <td>1267.000000</td>\n",
       "    </tr>\n",
       "    <tr>\n",
       "      <th>25%</th>\n",
       "      <td>21924.000000</td>\n",
       "      <td>7125.000000</td>\n",
       "      <td>497028.000000</td>\n",
       "      <td>18893.500000</td>\n",
       "    </tr>\n",
       "    <tr>\n",
       "      <th>50%</th>\n",
       "      <td>40155.000000</td>\n",
       "      <td>7135.000000</td>\n",
       "      <td>497032.000000</td>\n",
       "      <td>37466.000000</td>\n",
       "    </tr>\n",
       "    <tr>\n",
       "      <th>75%</th>\n",
       "      <td>50755.000000</td>\n",
       "      <td>7155.000000</td>\n",
       "      <td>497035.000000</td>\n",
       "      <td>52605.500000</td>\n",
       "    </tr>\n",
       "    <tr>\n",
       "      <th>max</th>\n",
       "      <td>112601.000000</td>\n",
       "      <td>7167.000000</td>\n",
       "      <td>509369.000000</td>\n",
       "      <td>65583.000000</td>\n",
       "    </tr>\n",
       "  </tbody>\n",
       "</table>\n",
       "</div>"
      ],
      "text/plain": [
       "        Order number    Client ID   Product code  Delivery amount\n",
       "count     271.000000   271.000000     271.000000       271.000000\n",
       "mean    40986.944649  7137.667897  446526.763838     35093.892989\n",
       "std     27813.750049    18.439502  113515.037259     18974.208401\n",
       "min      2968.000000  7110.000000  111864.000000      1267.000000\n",
       "25%     21924.000000  7125.000000  497028.000000     18893.500000\n",
       "50%     40155.000000  7135.000000  497032.000000     37466.000000\n",
       "75%     50755.000000  7155.000000  497035.000000     52605.500000\n",
       "max    112601.000000  7167.000000  509369.000000     65583.000000"
      ]
     },
     "execution_count": 9,
     "metadata": {},
     "output_type": "execute_result"
    }
   ],
   "source": [
    "data_2019.describe()"
   ]
  },
  {
   "cell_type": "markdown",
   "id": "f10410ae",
   "metadata": {
    "papermill": {
     "duration": 0.024335,
     "end_time": "2023-11-30T17:57:37.297018",
     "exception": false,
     "start_time": "2023-11-30T17:57:37.272683",
     "status": "completed"
    },
    "tags": []
   },
   "source": [
    "<hr>\n",
    "\n",
    "<p style='font-size: 20px; font-family: Roboto;'>2020 Table"
   ]
  },
  {
   "cell_type": "code",
   "execution_count": 10,
   "id": "fdb99855",
   "metadata": {
    "execution": {
     "iopub.execute_input": "2023-11-30T17:57:37.348856Z",
     "iopub.status.busy": "2023-11-30T17:57:37.347532Z",
     "iopub.status.idle": "2023-11-30T17:57:37.362997Z",
     "shell.execute_reply": "2023-11-30T17:57:37.361737Z"
    },
    "papermill": {
     "duration": 0.043803,
     "end_time": "2023-11-30T17:57:37.365668",
     "exception": false,
     "start_time": "2023-11-30T17:57:37.321865",
     "status": "completed"
    },
    "tags": []
   },
   "outputs": [
    {
     "data": {
      "text/html": [
       "<div>\n",
       "<style scoped>\n",
       "    .dataframe tbody tr th:only-of-type {\n",
       "        vertical-align: middle;\n",
       "    }\n",
       "\n",
       "    .dataframe tbody tr th {\n",
       "        vertical-align: top;\n",
       "    }\n",
       "\n",
       "    .dataframe thead th {\n",
       "        text-align: right;\n",
       "    }\n",
       "</style>\n",
       "<table border=\"1\" class=\"dataframe\">\n",
       "  <thead>\n",
       "    <tr style=\"text-align: right;\">\n",
       "      <th></th>\n",
       "      <th>Order number</th>\n",
       "      <th>Client ID</th>\n",
       "      <th>Product code</th>\n",
       "      <th>Date of delivery</th>\n",
       "      <th>Delivery amount</th>\n",
       "    </tr>\n",
       "  </thead>\n",
       "  <tbody>\n",
       "    <tr>\n",
       "      <th>0</th>\n",
       "      <td>81318.0</td>\n",
       "      <td>7118.0</td>\n",
       "      <td>510984.0</td>\n",
       "      <td>2020-02-17</td>\n",
       "      <td>4771.0</td>\n",
       "    </tr>\n",
       "    <tr>\n",
       "      <th>1</th>\n",
       "      <td>29280.0</td>\n",
       "      <td>7138.0</td>\n",
       "      <td>510984.0</td>\n",
       "      <td>2020-02-19</td>\n",
       "      <td>34346.0</td>\n",
       "    </tr>\n",
       "    <tr>\n",
       "      <th>2</th>\n",
       "      <td>33418.0</td>\n",
       "      <td>7161.0</td>\n",
       "      <td>510984.0</td>\n",
       "      <td>2020-02-12</td>\n",
       "      <td>29026.0</td>\n",
       "    </tr>\n",
       "    <tr>\n",
       "      <th>3</th>\n",
       "      <td>81318.0</td>\n",
       "      <td>7118.0</td>\n",
       "      <td>510985.0</td>\n",
       "      <td>2020-02-17</td>\n",
       "      <td>37186.0</td>\n",
       "    </tr>\n",
       "    <tr>\n",
       "      <th>4</th>\n",
       "      <td>29280.0</td>\n",
       "      <td>7138.0</td>\n",
       "      <td>510985.0</td>\n",
       "      <td>2020-02-19</td>\n",
       "      <td>47580.0</td>\n",
       "    </tr>\n",
       "  </tbody>\n",
       "</table>\n",
       "</div>"
      ],
      "text/plain": [
       "   Order number  Client ID  Product code Date of delivery  Delivery amount\n",
       "0       81318.0     7118.0      510984.0       2020-02-17           4771.0\n",
       "1       29280.0     7138.0      510984.0       2020-02-19          34346.0\n",
       "2       33418.0     7161.0      510984.0       2020-02-12          29026.0\n",
       "3       81318.0     7118.0      510985.0       2020-02-17          37186.0\n",
       "4       29280.0     7138.0      510985.0       2020-02-19          47580.0"
      ]
     },
     "execution_count": 10,
     "metadata": {},
     "output_type": "execute_result"
    }
   ],
   "source": [
    "# Table overview\n",
    "data_2020.head()"
   ]
  },
  {
   "cell_type": "code",
   "execution_count": 11,
   "id": "82719dac",
   "metadata": {
    "execution": {
     "iopub.execute_input": "2023-11-30T17:57:37.415390Z",
     "iopub.status.busy": "2023-11-30T17:57:37.414938Z",
     "iopub.status.idle": "2023-11-30T17:57:37.438162Z",
     "shell.execute_reply": "2023-11-30T17:57:37.436718Z"
    },
    "papermill": {
     "duration": 0.05338,
     "end_time": "2023-11-30T17:57:37.442297",
     "exception": false,
     "start_time": "2023-11-30T17:57:37.388917",
     "status": "completed"
    },
    "tags": []
   },
   "outputs": [
    {
     "name": "stdout",
     "output_type": "stream",
     "text": [
      "<class 'pandas.core.frame.DataFrame'>\n",
      "RangeIndex: 1048304 entries, 0 to 1048303\n",
      "Data columns (total 5 columns):\n",
      " #   Column            Non-Null Count    Dtype         \n",
      "---  ------            --------------    -----         \n",
      " 0   Order number      507 non-null      float64       \n",
      " 1   Client ID         507 non-null      float64       \n",
      " 2   Product code      507 non-null      float64       \n",
      " 3   Date of delivery  507 non-null      datetime64[ns]\n",
      " 4   Delivery amount   1047810 non-null  float64       \n",
      "dtypes: datetime64[ns](1), float64(4)\n",
      "memory usage: 40.0 MB\n"
     ]
    }
   ],
   "source": [
    "# Data type\n",
    "data_2020.info()"
   ]
  },
  {
   "cell_type": "code",
   "execution_count": 12,
   "id": "af76f694",
   "metadata": {
    "execution": {
     "iopub.execute_input": "2023-11-30T17:57:37.490856Z",
     "iopub.status.busy": "2023-11-30T17:57:37.490419Z",
     "iopub.status.idle": "2023-11-30T17:57:40.010053Z",
     "shell.execute_reply": "2023-11-30T17:57:40.008808Z"
    },
    "papermill": {
     "duration": 2.546886,
     "end_time": "2023-11-30T17:57:40.012760",
     "exception": false,
     "start_time": "2023-11-30T17:57:37.465874",
     "status": "completed"
    },
    "tags": []
   },
   "outputs": [
    {
     "data": {
      "text/plain": [
       "<Axes: >"
      ]
     },
     "execution_count": 12,
     "metadata": {},
     "output_type": "execute_result"
    },
    {
     "data": {
      "image/png": "[encoded data removed]",
      "text/plain": [
       "<Figure size 2500x1000 with 2 Axes>"
      ]
     },
     "metadata": {},
     "output_type": "display_data"
    }
   ],
   "source": [
    "# Checking for missing data\n",
    "msno.matrix(data_2020)"
   ]
  },
  {
   "cell_type": "code",
   "execution_count": 13,
   "id": "3563873f",
   "metadata": {
    "execution": {
     "iopub.execute_input": "2023-11-30T17:57:40.063607Z",
     "iopub.status.busy": "2023-11-30T17:57:40.063219Z",
     "iopub.status.idle": "2023-11-30T17:57:40.072705Z",
     "shell.execute_reply": "2023-11-30T17:57:40.071529Z"
    },
    "papermill": {
     "duration": 0.037672,
     "end_time": "2023-11-30T17:57:40.075520",
     "exception": false,
     "start_time": "2023-11-30T17:57:40.037848",
     "status": "completed"
    },
    "tags": []
   },
   "outputs": [],
   "source": [
    "# Only keeping the rows with complete data\n",
    "# Converting strings to int32\n",
    "data_2020 = data_2020.iloc[:507, :]\n",
    "data_2020 = data_2020.astype({'Client ID':np.int32, 'Order number':np.int32, 'Product code':np.int32})"
   ]
  },
  {
   "cell_type": "code",
   "execution_count": 14,
   "id": "5f766ebe",
   "metadata": {
    "execution": {
     "iopub.execute_input": "2023-11-30T17:57:40.125137Z",
     "iopub.status.busy": "2023-11-30T17:57:40.124748Z",
     "iopub.status.idle": "2023-11-30T17:57:40.788199Z",
     "shell.execute_reply": "2023-11-30T17:57:40.786812Z"
    },
    "papermill": {
     "duration": 0.691337,
     "end_time": "2023-11-30T17:57:40.790900",
     "exception": false,
     "start_time": "2023-11-30T17:57:40.099563",
     "status": "completed"
    },
    "tags": []
   },
   "outputs": [
    {
     "data": {
      "text/plain": [
       "<Axes: >"
      ]
     },
     "execution_count": 14,
     "metadata": {},
     "output_type": "execute_result"
    },
    {
     "data": {
      "image/png": "[encoded data removed]",
      "text/plain": [
       "<Figure size 2500x1000 with 2 Axes>"
      ]
     },
     "metadata": {},
     "output_type": "display_data"
    }
   ],
   "source": [
    "# Without missing data\n",
    "msno.matrix(data_2020, color=(0.96, 0.84, 0.56))"
   ]
  },
  {
   "cell_type": "code",
   "execution_count": 15,
   "id": "c6d4ee22",
   "metadata": {
    "execution": {
     "iopub.execute_input": "2023-11-30T17:57:40.846704Z",
     "iopub.status.busy": "2023-11-30T17:57:40.846313Z",
     "iopub.status.idle": "2023-11-30T17:57:40.871920Z",
     "shell.execute_reply": "2023-11-30T17:57:40.870807Z"
    },
    "papermill": {
     "duration": 0.056828,
     "end_time": "2023-11-30T17:57:40.874680",
     "exception": false,
     "start_time": "2023-11-30T17:57:40.817852",
     "status": "completed"
    },
    "tags": []
   },
   "outputs": [
    {
     "data": {
      "text/html": [
       "<div>\n",
       "<style scoped>\n",
       "    .dataframe tbody tr th:only-of-type {\n",
       "        vertical-align: middle;\n",
       "    }\n",
       "\n",
       "    .dataframe tbody tr th {\n",
       "        vertical-align: top;\n",
       "    }\n",
       "\n",
       "    .dataframe thead th {\n",
       "        text-align: right;\n",
       "    }\n",
       "</style>\n",
       "<table border=\"1\" class=\"dataframe\">\n",
       "  <thead>\n",
       "    <tr style=\"text-align: right;\">\n",
       "      <th></th>\n",
       "      <th>Order number</th>\n",
       "      <th>Client ID</th>\n",
       "      <th>Product code</th>\n",
       "      <th>Delivery amount</th>\n",
       "    </tr>\n",
       "  </thead>\n",
       "  <tbody>\n",
       "    <tr>\n",
       "      <th>count</th>\n",
       "      <td>507.000000</td>\n",
       "      <td>507.000000</td>\n",
       "      <td>507.000000</td>\n",
       "      <td>507.000000</td>\n",
       "    </tr>\n",
       "    <tr>\n",
       "      <th>mean</th>\n",
       "      <td>52150.370809</td>\n",
       "      <td>7137.840237</td>\n",
       "      <td>411595.812623</td>\n",
       "      <td>33227.370809</td>\n",
       "    </tr>\n",
       "    <tr>\n",
       "      <th>std</th>\n",
       "      <td>29487.910887</td>\n",
       "      <td>16.089919</td>\n",
       "      <td>141994.977992</td>\n",
       "      <td>19057.057157</td>\n",
       "    </tr>\n",
       "    <tr>\n",
       "      <th>min</th>\n",
       "      <td>3491.000000</td>\n",
       "      <td>7110.000000</td>\n",
       "      <td>111855.000000</td>\n",
       "      <td>1308.000000</td>\n",
       "    </tr>\n",
       "    <tr>\n",
       "      <th>25%</th>\n",
       "      <td>33760.000000</td>\n",
       "      <td>7126.000000</td>\n",
       "      <td>237553.000000</td>\n",
       "      <td>16214.000000</td>\n",
       "    </tr>\n",
       "    <tr>\n",
       "      <th>50%</th>\n",
       "      <td>53061.000000</td>\n",
       "      <td>7136.000000</td>\n",
       "      <td>512016.000000</td>\n",
       "      <td>32328.000000</td>\n",
       "    </tr>\n",
       "    <tr>\n",
       "      <th>75%</th>\n",
       "      <td>64473.000000</td>\n",
       "      <td>7158.000000</td>\n",
       "      <td>518703.000000</td>\n",
       "      <td>50635.000000</td>\n",
       "    </tr>\n",
       "    <tr>\n",
       "      <th>max</th>\n",
       "      <td>130090.000000</td>\n",
       "      <td>7167.000000</td>\n",
       "      <td>524468.000000</td>\n",
       "      <td>65891.000000</td>\n",
       "    </tr>\n",
       "  </tbody>\n",
       "</table>\n",
       "</div>"
      ],
      "text/plain": [
       "        Order number    Client ID   Product code  Delivery amount\n",
       "count     507.000000   507.000000     507.000000       507.000000\n",
       "mean    52150.370809  7137.840237  411595.812623     33227.370809\n",
       "std     29487.910887    16.089919  141994.977992     19057.057157\n",
       "min      3491.000000  7110.000000  111855.000000      1308.000000\n",
       "25%     33760.000000  7126.000000  237553.000000     16214.000000\n",
       "50%     53061.000000  7136.000000  512016.000000     32328.000000\n",
       "75%     64473.000000  7158.000000  518703.000000     50635.000000\n",
       "max    130090.000000  7167.000000  524468.000000     65891.000000"
      ]
     },
     "execution_count": 15,
     "metadata": {},
     "output_type": "execute_result"
    }
   ],
   "source": [
    "data_2020.describe()"
   ]
  },
  {
   "cell_type": "code",
   "execution_count": 16,
   "id": "e4340cd7",
   "metadata": {
    "execution": {
     "iopub.execute_input": "2023-11-30T17:57:40.928133Z",
     "iopub.status.busy": "2023-11-30T17:57:40.927674Z",
     "iopub.status.idle": "2023-11-30T17:57:40.937266Z",
     "shell.execute_reply": "2023-11-30T17:57:40.935801Z"
    },
    "papermill": {
     "duration": 0.039702,
     "end_time": "2023-11-30T17:57:40.940044",
     "exception": false,
     "start_time": "2023-11-30T17:57:40.900342",
     "status": "completed"
    },
    "tags": []
   },
   "outputs": [],
   "source": [
    "# Adding the \"Year\" feature, since all tasks will be focused specifically on the filter by year\n",
    "data_2019['Year'] = data_2019['Date of delivery'].dt.year\n",
    "data_2020['Year'] = data_2020['Date of delivery'].dt.year"
   ]
  },
  {
   "cell_type": "markdown",
   "id": "0679c21f",
   "metadata": {
    "papermill": {
     "duration": 0.027398,
     "end_time": "2023-11-30T17:57:40.992246",
     "exception": false,
     "start_time": "2023-11-30T17:57:40.964848",
     "status": "completed"
    },
    "tags": []
   },
   "source": [
    "<hr>\n",
    "<h1 style=\"\n",
    "          border-radius:5px; \n",
    "          background-color: #37373b; \n",
    "          color:#f5f2e9; \n",
    "          padding:15px;\n",
    "          letter-spacing: 2px; \n",
    "          font-family: 'JetBrains Mono';\n",
    "          font-size:35px;\n",
    "          border-left: 3px solid #f2bd1d; \n",
    "          border-bottom: 3px outset #f2bd1d;\n",
    "          margin-bottom: 10px;\"> Task 1:<br><br> Compare 2 years and identify New items (goods that began to be delivered only in 2020). Calculate the amount of delivery of Novelties for 2020.</h1>"
   ]
  },
  {
   "cell_type": "code",
   "execution_count": 17,
   "id": "2ee3ae58",
   "metadata": {
    "execution": {
     "iopub.execute_input": "2023-11-30T17:57:41.047395Z",
     "iopub.status.busy": "2023-11-30T17:57:41.046995Z",
     "iopub.status.idle": "2023-11-30T17:57:41.053484Z",
     "shell.execute_reply": "2023-11-30T17:57:41.052184Z"
    },
    "papermill": {
     "duration": 0.037689,
     "end_time": "2023-11-30T17:57:41.056385",
     "exception": false,
     "start_time": "2023-11-30T17:57:41.018696",
     "status": "completed"
    },
    "tags": []
   },
   "outputs": [],
   "source": [
    "# Making a 'code' list with all the 2019 Product codes\n",
    "code = data_2019['Product code'].to_list()"
   ]
  },
  {
   "cell_type": "markdown",
   "id": "e3505630",
   "metadata": {
    "papermill": {
     "duration": 0.02494,
     "end_time": "2023-11-30T17:57:41.106996",
     "exception": false,
     "start_time": "2023-11-30T17:57:41.082056",
     "status": "completed"
    },
    "tags": []
   },
   "source": [
    "The following code calculates the total delivery amount for goods in 2020, excluding those that were already supplied in 2019 (based on the product codes provided in the list `code`)."
   ]
  },
  {
   "cell_type": "code",
   "execution_count": 18,
   "id": "6e46e259",
   "metadata": {
    "execution": {
     "iopub.execute_input": "2023-11-30T17:57:41.161039Z",
     "iopub.status.busy": "2023-11-30T17:57:41.160314Z",
     "iopub.status.idle": "2023-11-30T17:57:41.177238Z",
     "shell.execute_reply": "2023-11-30T17:57:41.176019Z"
    },
    "papermill": {
     "duration": 0.045998,
     "end_time": "2023-11-30T17:57:41.179629",
     "exception": false,
     "start_time": "2023-11-30T17:57:41.133631",
     "status": "completed"
    },
    "tags": []
   },
   "outputs": [
    {
     "data": {
      "text/plain": [
       "Delivery amount    15096275.0\n",
       "dtype: float64"
      ]
     },
     "execution_count": 18,
     "metadata": {},
     "output_type": "execute_result"
    }
   ],
   "source": [
    "data_2020[~data_2020['Product code'].isin(code)].agg({'Delivery amount' : 'sum'})"
   ]
  },
  {
   "cell_type": "markdown",
   "id": "549f6685",
   "metadata": {
    "papermill": {
     "duration": 0.025129,
     "end_time": "2023-11-30T17:57:41.231670",
     "exception": false,
     "start_time": "2023-11-30T17:57:41.206541",
     "status": "completed"
    },
    "tags": []
   },
   "source": [
    "**There was a total of 7,325,415 deliveries of 2020 products.**"
   ]
  },
  {
   "cell_type": "markdown",
   "id": "eda0fb09",
   "metadata": {
    "papermill": {
     "duration": 0.026012,
     "end_time": "2023-11-30T17:57:41.283521",
     "exception": false,
     "start_time": "2023-11-30T17:57:41.257509",
     "status": "completed"
    },
    "tags": []
   },
   "source": [
    "<hr>\n",
    "<h1 style=\"\n",
    "          border-radius:5px; \n",
    "          background-color: #37373b; \n",
    "          color:#f5f2e9; \n",
    "          padding:15px;\n",
    "          letter-spacing: 2px; \n",
    "          font-family: 'JetBrains Mono';\n",
    "          font-size:35px;\n",
    "          border-left: 3px solid #f2bd1d; \n",
    "          border-bottom: 3px outset #f2bd1d;\n",
    "          margin-bottom: 10px;\"> Task 2:<br><br>Make a year-to-year comparison for sales of products that were not New. Year-to-year means not to compare by day. Find the code of the product that had the highest increase in deliveries in 2020 compared to 2019.</h1>"
   ]
  },
  {
   "cell_type": "code",
   "execution_count": 19,
   "id": "ec86ebce",
   "metadata": {
    "execution": {
     "iopub.execute_input": "2023-11-30T17:57:41.339109Z",
     "iopub.status.busy": "2023-11-30T17:57:41.338318Z",
     "iopub.status.idle": "2023-11-30T17:57:41.348694Z",
     "shell.execute_reply": "2023-11-30T17:57:41.347517Z"
    },
    "papermill": {
     "duration": 0.040504,
     "end_time": "2023-11-30T17:57:41.351164",
     "exception": false,
     "start_time": "2023-11-30T17:57:41.310660",
     "status": "completed"
    },
    "tags": []
   },
   "outputs": [],
   "source": [
    "# 2019 list of unique codes with total deliveries\n",
    "data_2019_count = data_2019\\\n",
    "    .groupby('Product code', as_index=False)\\\n",
    "    .agg({'Delivery amount': 'sum'})"
   ]
  },
  {
   "cell_type": "code",
   "execution_count": 20,
   "id": "66f77cf6",
   "metadata": {
    "execution": {
     "iopub.execute_input": "2023-11-30T17:57:41.404453Z",
     "iopub.status.busy": "2023-11-30T17:57:41.404024Z",
     "iopub.status.idle": "2023-11-30T17:57:41.418101Z",
     "shell.execute_reply": "2023-11-30T17:57:41.416098Z"
    },
    "papermill": {
     "duration": 0.043808,
     "end_time": "2023-11-30T17:57:41.421032",
     "exception": false,
     "start_time": "2023-11-30T17:57:41.377224",
     "status": "completed"
    },
    "tags": []
   },
   "outputs": [],
   "source": [
    "# 2020 list of unique codes with total deliveries\n",
    "# the first line excludes the new products\n",
    "data_2020_count = data_2020[data_2020['Product code'].isin(code)]\\\n",
    "    .groupby('Product code', as_index=False)\\\n",
    "    .agg({'Delivery amount': 'sum'})"
   ]
  },
  {
   "cell_type": "code",
   "execution_count": 21,
   "id": "d124ba30",
   "metadata": {
    "execution": {
     "iopub.execute_input": "2023-11-30T17:57:41.481030Z",
     "iopub.status.busy": "2023-11-30T17:57:41.480127Z",
     "iopub.status.idle": "2023-11-30T17:57:41.503716Z",
     "shell.execute_reply": "2023-11-30T17:57:41.502337Z"
    },
    "papermill": {
     "duration": 0.057872,
     "end_time": "2023-11-30T17:57:41.506357",
     "exception": false,
     "start_time": "2023-11-30T17:57:41.448485",
     "status": "completed"
    },
    "tags": []
   },
   "outputs": [
    {
     "data": {
      "text/html": [
       "<div>\n",
       "<style scoped>\n",
       "    .dataframe tbody tr th:only-of-type {\n",
       "        vertical-align: middle;\n",
       "    }\n",
       "\n",
       "    .dataframe tbody tr th {\n",
       "        vertical-align: top;\n",
       "    }\n",
       "\n",
       "    .dataframe thead th {\n",
       "        text-align: right;\n",
       "    }\n",
       "</style>\n",
       "<table border=\"1\" class=\"dataframe\">\n",
       "  <thead>\n",
       "    <tr style=\"text-align: right;\">\n",
       "      <th></th>\n",
       "      <th>Product code</th>\n",
       "      <th>Delivery amount 2019</th>\n",
       "      <th>Delivery amount 2020</th>\n",
       "    </tr>\n",
       "  </thead>\n",
       "  <tbody>\n",
       "    <tr>\n",
       "      <th>0</th>\n",
       "      <td>111864</td>\n",
       "      <td>12738.0</td>\n",
       "      <td>13018</td>\n",
       "    </tr>\n",
       "    <tr>\n",
       "      <th>1</th>\n",
       "      <td>111879</td>\n",
       "      <td>7494.0</td>\n",
       "      <td>5232</td>\n",
       "    </tr>\n",
       "    <tr>\n",
       "      <th>2</th>\n",
       "      <td>111889</td>\n",
       "      <td>13287.0</td>\n",
       "      <td>17516</td>\n",
       "    </tr>\n",
       "    <tr>\n",
       "      <th>3</th>\n",
       "      <td>111890</td>\n",
       "      <td>37140.0</td>\n",
       "      <td>3352</td>\n",
       "    </tr>\n",
       "    <tr>\n",
       "      <th>4</th>\n",
       "      <td>111927</td>\n",
       "      <td>62743.0</td>\n",
       "      <td>20579</td>\n",
       "    </tr>\n",
       "  </tbody>\n",
       "</table>\n",
       "</div>"
      ],
      "text/plain": [
       "   Product code  Delivery amount 2019  Delivery amount 2020\n",
       "0        111864               12738.0                 13018\n",
       "1        111879                7494.0                  5232\n",
       "2        111889               13287.0                 17516\n",
       "3        111890               37140.0                  3352\n",
       "4        111927               62743.0                 20579"
      ]
     },
     "execution_count": 21,
     "metadata": {},
     "output_type": "execute_result"
    }
   ],
   "source": [
    "# Combine 2019 and 2020 Product-Deliery datasets\n",
    "growth = data_2020_count.merge(data_2019_count, left_on='Product code', \\\n",
    "                               right_on='Product code', suffixes=(' 2019', ' 2020'))\n",
    "growth.head()"
   ]
  },
  {
   "cell_type": "code",
   "execution_count": 22,
   "id": "8b770cd5",
   "metadata": {
    "execution": {
     "iopub.execute_input": "2023-11-30T17:57:41.561967Z",
     "iopub.status.busy": "2023-11-30T17:57:41.561296Z",
     "iopub.status.idle": "2023-11-30T17:57:41.576232Z",
     "shell.execute_reply": "2023-11-30T17:57:41.574735Z"
    },
    "papermill": {
     "duration": 0.045273,
     "end_time": "2023-11-30T17:57:41.578834",
     "exception": false,
     "start_time": "2023-11-30T17:57:41.533561",
     "status": "completed"
    },
    "tags": []
   },
   "outputs": [
    {
     "data": {
      "text/html": [
       "<div>\n",
       "<style scoped>\n",
       "    .dataframe tbody tr th:only-of-type {\n",
       "        vertical-align: middle;\n",
       "    }\n",
       "\n",
       "    .dataframe tbody tr th {\n",
       "        vertical-align: top;\n",
       "    }\n",
       "\n",
       "    .dataframe thead th {\n",
       "        text-align: right;\n",
       "    }\n",
       "</style>\n",
       "<table border=\"1\" class=\"dataframe\">\n",
       "  <thead>\n",
       "    <tr style=\"text-align: right;\">\n",
       "      <th></th>\n",
       "      <th>Product code</th>\n",
       "      <th>Delivery amount 2019</th>\n",
       "      <th>Delivery amount 2020</th>\n",
       "      <th>Growth in supplies 2020</th>\n",
       "    </tr>\n",
       "  </thead>\n",
       "  <tbody>\n",
       "    <tr>\n",
       "      <th>0</th>\n",
       "      <td>111864</td>\n",
       "      <td>12738.0</td>\n",
       "      <td>13018</td>\n",
       "      <td>280.0</td>\n",
       "    </tr>\n",
       "    <tr>\n",
       "      <th>1</th>\n",
       "      <td>111879</td>\n",
       "      <td>7494.0</td>\n",
       "      <td>5232</td>\n",
       "      <td>-2262.0</td>\n",
       "    </tr>\n",
       "    <tr>\n",
       "      <th>2</th>\n",
       "      <td>111889</td>\n",
       "      <td>13287.0</td>\n",
       "      <td>17516</td>\n",
       "      <td>4229.0</td>\n",
       "    </tr>\n",
       "    <tr>\n",
       "      <th>3</th>\n",
       "      <td>111890</td>\n",
       "      <td>37140.0</td>\n",
       "      <td>3352</td>\n",
       "      <td>-33788.0</td>\n",
       "    </tr>\n",
       "    <tr>\n",
       "      <th>4</th>\n",
       "      <td>111927</td>\n",
       "      <td>62743.0</td>\n",
       "      <td>20579</td>\n",
       "      <td>-42164.0</td>\n",
       "    </tr>\n",
       "  </tbody>\n",
       "</table>\n",
       "</div>"
      ],
      "text/plain": [
       "   Product code  Delivery amount 2019  Delivery amount 2020  \\\n",
       "0        111864               12738.0                 13018   \n",
       "1        111879                7494.0                  5232   \n",
       "2        111889               13287.0                 17516   \n",
       "3        111890               37140.0                  3352   \n",
       "4        111927               62743.0                 20579   \n",
       "\n",
       "   Growth in supplies 2020  \n",
       "0                    280.0  \n",
       "1                  -2262.0  \n",
       "2                   4229.0  \n",
       "3                 -33788.0  \n",
       "4                 -42164.0  "
      ]
     },
     "execution_count": 22,
     "metadata": {},
     "output_type": "execute_result"
    }
   ],
   "source": [
    "# Growth in supplies between 2019 and 2020\n",
    "growth['Growth in supplies 2020'] = growth['Delivery amount 2020'] - growth['Delivery amount 2019']\n",
    "growth.head()"
   ]
  },
  {
   "cell_type": "code",
   "execution_count": 23,
   "id": "3f0b2156",
   "metadata": {
    "execution": {
     "iopub.execute_input": "2023-11-30T17:57:41.638016Z",
     "iopub.status.busy": "2023-11-30T17:57:41.637475Z",
     "iopub.status.idle": "2023-11-30T17:57:41.652779Z",
     "shell.execute_reply": "2023-11-30T17:57:41.651503Z"
    },
    "papermill": {
     "duration": 0.049818,
     "end_time": "2023-11-30T17:57:41.656264",
     "exception": false,
     "start_time": "2023-11-30T17:57:41.606446",
     "status": "completed"
    },
    "tags": []
   },
   "outputs": [
    {
     "data": {
      "text/html": [
       "<div>\n",
       "<style scoped>\n",
       "    .dataframe tbody tr th:only-of-type {\n",
       "        vertical-align: middle;\n",
       "    }\n",
       "\n",
       "    .dataframe tbody tr th {\n",
       "        vertical-align: top;\n",
       "    }\n",
       "\n",
       "    .dataframe thead th {\n",
       "        text-align: right;\n",
       "    }\n",
       "</style>\n",
       "<table border=\"1\" class=\"dataframe\">\n",
       "  <thead>\n",
       "    <tr style=\"text-align: right;\">\n",
       "      <th></th>\n",
       "      <th>Product code</th>\n",
       "      <th>Delivery amount 2019</th>\n",
       "      <th>Delivery amount 2020</th>\n",
       "      <th>Growth in supplies 2020</th>\n",
       "    </tr>\n",
       "  </thead>\n",
       "  <tbody>\n",
       "    <tr>\n",
       "      <th>39</th>\n",
       "      <td>497253</td>\n",
       "      <td>51866.0</td>\n",
       "      <td>766297</td>\n",
       "      <td>714431.0</td>\n",
       "    </tr>\n",
       "  </tbody>\n",
       "</table>\n",
       "</div>"
      ],
      "text/plain": [
       "    Product code  Delivery amount 2019  Delivery amount 2020  \\\n",
       "39        497253               51866.0                766297   \n",
       "\n",
       "    Growth in supplies 2020  \n",
       "39                 714431.0  "
      ]
     },
     "execution_count": 23,
     "metadata": {},
     "output_type": "execute_result"
    }
   ],
   "source": [
    "# Sort in descending order, leaving one product - because this is our task\n",
    "growth.sort_values(by='Growth in supplies 2020', ascending=False).head(1)"
   ]
  },
  {
   "cell_type": "markdown",
   "id": "001debfb",
   "metadata": {
    "papermill": {
     "duration": 0.029184,
     "end_time": "2023-11-30T17:57:41.712434",
     "exception": false,
     "start_time": "2023-11-30T17:57:41.683250",
     "status": "completed"
    },
    "tags": []
   },
   "source": [
    "**The code of the product with the highest increase in deliveries is 497253.**"
   ]
  },
  {
   "cell_type": "markdown",
   "id": "af84cabf",
   "metadata": {
    "papermill": {
     "duration": 0.026374,
     "end_time": "2023-11-30T17:57:41.768008",
     "exception": false,
     "start_time": "2023-11-30T17:57:41.741634",
     "status": "completed"
    },
    "tags": []
   },
   "source": [
    "<hr>\n",
    "<h1 style=\"\n",
    "          border-radius:5px; \n",
    "          background-color: #37373b; \n",
    "          color:#f5f2e9; \n",
    "          padding:15px;\n",
    "          letter-spacing: 2px; \n",
    "          font-family: 'JetBrains Mono';\n",
    "          font-size:35px;\n",
    "          border-left: 3px solid #f2bd1d; \n",
    "          border-bottom: 3px outset #f2bd1d;\n",
    "          margin-bottom: 10px;\"> Task 3:<br><br>Conduct an ABC analysis of goods for two years according to the principle: category A - 50% of all deliveries, category B - 30%, C - 20%. Compare the number of unique product codes for each ABC category year by year Determine the goods of category A in 2019 and 2020 in total (add the number of goods of category A in 2019 and 2020 and enter the figure).</h1>"
   ]
  },
  {
   "cell_type": "markdown",
   "id": "0732bdb0",
   "metadata": {
    "papermill": {
     "duration": 0.028008,
     "end_time": "2023-11-30T17:57:41.824033",
     "exception": false,
     "start_time": "2023-11-30T17:57:41.796025",
     "status": "completed"
    },
    "tags": []
   },
   "source": [
    "\n",
    "**ABC analysis is based on the empirical Pareto law:**\n",
    "\n",
    "* A - 20% of the effort (assortment) gives 80% of the result (sales)\n",
    "* B - 30% of effort (assortment) gives 15% of result (sales)\n",
    "* C - 50% of efforts (assortment) give 5% of results (sales)\n",
    "\n",
    "Let's do the task and then do the right ABC analysis<hr>"
   ]
  },
  {
   "cell_type": "code",
   "execution_count": 24,
   "id": "d05f2111",
   "metadata": {
    "execution": {
     "iopub.execute_input": "2023-11-30T17:57:41.884954Z",
     "iopub.status.busy": "2023-11-30T17:57:41.884512Z",
     "iopub.status.idle": "2023-11-30T17:57:41.893140Z",
     "shell.execute_reply": "2023-11-30T17:57:41.891834Z"
    },
    "papermill": {
     "duration": 0.041744,
     "end_time": "2023-11-30T17:57:41.895852",
     "exception": false,
     "start_time": "2023-11-30T17:57:41.854108",
     "status": "completed"
    },
    "tags": []
   },
   "outputs": [],
   "source": [
    "# Defining ABC analysis function to use for 2019 and 2020 data\n",
    "\n",
    "def ABC_analysis(data, a, b):\n",
    "    #group data by product code, sum deliveries: high to low\n",
    "    dfsale = data.groupby(['Product code'], as_index=False)\\\n",
    "        .agg({'Delivery amount':'sum'})\\\n",
    "        .sort_values(by='Delivery amount', ascending=False)\n",
    "    #group N percentage from ABC\n",
    "    dfsale['part'] = dfsale['Delivery amount']/dfsale['Delivery amount'].sum()*100\n",
    "    #create a new feature 'cum_part' that will store the total amount of shares\n",
    "    dfsale['cum_part']=dfsale['part'].cumsum()\n",
    "    #create a new feature 'group' and use the lambda function to divide the products into 3 groups ABC\n",
    "    #use separators so that we can choose the boundaries of the section ourselves\n",
    "    result = dfsale['cum_part'].apply(lambda x: 'A' if x < a else ('B' if a <= x < b else 'C')).to_list()\n",
    "    #return the list\n",
    "    return result"
   ]
  },
  {
   "cell_type": "code",
   "execution_count": 25,
   "id": "46bf8770",
   "metadata": {
    "execution": {
     "iopub.execute_input": "2023-11-30T17:57:41.956571Z",
     "iopub.status.busy": "2023-11-30T17:57:41.955881Z",
     "iopub.status.idle": "2023-11-30T17:57:41.972197Z",
     "shell.execute_reply": "2023-11-30T17:57:41.970878Z"
    },
    "papermill": {
     "duration": 0.050404,
     "end_time": "2023-11-30T17:57:41.974810",
     "exception": false,
     "start_time": "2023-11-30T17:57:41.924406",
     "status": "completed"
    },
    "tags": []
   },
   "outputs": [],
   "source": [
    "# For 2019: group by Product, sum Deliery, high to low\n",
    "\n",
    "dfsale_2019 = data_2019.groupby(['Product code'], as_index=False)\\\n",
    "    .agg({'Delivery amount':'sum'})\\\n",
    "    .sort_values(by='Delivery amount', ascending=False)\n",
    "\n",
    "# use the ABC function to assign products to a group (incorrect at first)\n",
    "\n",
    "dfsale_2019['abc_group'] = ABC_analysis(dfsale_2019, 50, 80)"
   ]
  },
  {
   "cell_type": "code",
   "execution_count": 26,
   "id": "8a7b834e",
   "metadata": {
    "execution": {
     "iopub.execute_input": "2023-11-30T17:57:42.035195Z",
     "iopub.status.busy": "2023-11-30T17:57:42.034306Z",
     "iopub.status.idle": "2023-11-30T17:57:42.044348Z",
     "shell.execute_reply": "2023-11-30T17:57:42.043126Z"
    },
    "papermill": {
     "duration": 0.043656,
     "end_time": "2023-11-30T17:57:42.047694",
     "exception": false,
     "start_time": "2023-11-30T17:57:42.004038",
     "status": "completed"
    },
    "tags": []
   },
   "outputs": [
    {
     "data": {
      "text/plain": [
       "C    52\n",
       "A     6\n",
       "B     6\n",
       "Name: abc_group, dtype: int64"
      ]
     },
     "execution_count": 26,
     "metadata": {},
     "output_type": "execute_result"
    }
   ],
   "source": [
    "# For 2019: Count no of Products in each group\n",
    "dfsale_2019['abc_group'].value_counts()"
   ]
  },
  {
   "cell_type": "code",
   "execution_count": 27,
   "id": "c25bd874",
   "metadata": {
    "execution": {
     "iopub.execute_input": "2023-11-30T17:57:42.107876Z",
     "iopub.status.busy": "2023-11-30T17:57:42.106769Z",
     "iopub.status.idle": "2023-11-30T17:57:42.122155Z",
     "shell.execute_reply": "2023-11-30T17:57:42.120948Z"
    },
    "papermill": {
     "duration": 0.048868,
     "end_time": "2023-11-30T17:57:42.124763",
     "exception": false,
     "start_time": "2023-11-30T17:57:42.075895",
     "status": "completed"
    },
    "tags": []
   },
   "outputs": [],
   "source": [
    "# For 2020: group by Product, sum Deliery, high to low\n",
    "\n",
    "dfsale_2020 = data_2020.groupby(['Product code'], as_index=False)\\\n",
    "    .agg({'Delivery amount':'sum'})\\\n",
    "    .sort_values(by='Delivery amount', ascending=False)\n",
    "\n",
    "# use the ABC function to assign products to a group (incorrect at first)\n",
    "\n",
    "dfsale_2020['abc_group'] = ABC_analysis(dfsale_2020, 50, 80)"
   ]
  },
  {
   "cell_type": "code",
   "execution_count": 28,
   "id": "ed2a50c2",
   "metadata": {
    "execution": {
     "iopub.execute_input": "2023-11-30T17:57:42.184085Z",
     "iopub.status.busy": "2023-11-30T17:57:42.183621Z",
     "iopub.status.idle": "2023-11-30T17:57:42.193047Z",
     "shell.execute_reply": "2023-11-30T17:57:42.191820Z"
    },
    "papermill": {
     "duration": 0.041971,
     "end_time": "2023-11-30T17:57:42.195305",
     "exception": false,
     "start_time": "2023-11-30T17:57:42.153334",
     "status": "completed"
    },
    "tags": []
   },
   "outputs": [
    {
     "data": {
      "text/plain": [
       "C    67\n",
       "B    19\n",
       "A    13\n",
       "Name: abc_group, dtype: int64"
      ]
     },
     "execution_count": 28,
     "metadata": {},
     "output_type": "execute_result"
    }
   ],
   "source": [
    "# For 2020: Count no of Products in each group\n",
    "dfsale_2020['abc_group'].value_counts()"
   ]
  },
  {
   "cell_type": "markdown",
   "id": "f1633f86",
   "metadata": {
    "papermill": {
     "duration": 0.028903,
     "end_time": "2023-11-30T17:57:42.251011",
     "exception": false,
     "start_time": "2023-11-30T17:57:42.222108",
     "status": "completed"
    },
    "tags": []
   },
   "source": [
    "**Total of A category products is 19.**"
   ]
  },
  {
   "cell_type": "markdown",
   "id": "a0bcc574",
   "metadata": {
    "papermill": {
     "duration": 0.025974,
     "end_time": "2023-11-30T17:57:42.305978",
     "exception": false,
     "start_time": "2023-11-30T17:57:42.280004",
     "status": "completed"
    },
    "tags": []
   },
   "source": [
    "<hr>\n",
    "<h1 style=\"\n",
    "          border-radius:5px; \n",
    "          background-color: #37373b; \n",
    "          color:#f5f2e9; \n",
    "          padding:15px;\n",
    "          letter-spacing: 2px; \n",
    "          font-family: 'JetBrains Mono';\n",
    "          font-size:35px;\n",
    "          border-left: 3px solid #f2bd1d; \n",
    "          border-bottom: 3px outset #f2bd1d;\n",
    "          margin-bottom: 10px;\"> Doing proper ABC analysis.</h1>"
   ]
  },
  {
   "cell_type": "code",
   "execution_count": 29,
   "id": "4adf2bba",
   "metadata": {
    "execution": {
     "iopub.execute_input": "2023-11-30T17:57:42.361799Z",
     "iopub.status.busy": "2023-11-30T17:57:42.361355Z",
     "iopub.status.idle": "2023-11-30T17:57:42.380696Z",
     "shell.execute_reply": "2023-11-30T17:57:42.379316Z"
    },
    "papermill": {
     "duration": 0.050375,
     "end_time": "2023-11-30T17:57:42.383650",
     "exception": false,
     "start_time": "2023-11-30T17:57:42.333275",
     "status": "completed"
    },
    "tags": []
   },
   "outputs": [
    {
     "data": {
      "text/plain": [
       "(C    29\n",
       " B    23\n",
       " A    12\n",
       " Name: abc_group, dtype: int64,\n",
       "   abc_group  Delivery amount\n",
       " 0         A          7427318\n",
       " 1         B          1598719\n",
       " 2         C           484408)"
      ]
     },
     "execution_count": 29,
     "metadata": {},
     "output_type": "execute_result"
    }
   ],
   "source": [
    "# For 2019: ABC analysis\n",
    "dfsale_2019['abc_group'] = ABC_analysis(dfsale_2019, 80, 95)\n",
    "\n",
    "# counting the number of groups\n",
    "abc_count = dfsale_2019['abc_group'].value_counts()\n",
    "\n",
    "#calculate how much for each group\n",
    "abc_sum = dfsale_2019.groupby('abc_group', as_index=False).agg({'Delivery amount':'sum'})\n",
    "abc_count.head(), abc_sum.head()"
   ]
  },
  {
   "cell_type": "code",
   "execution_count": 30,
   "id": "09621436",
   "metadata": {
    "execution": {
     "iopub.execute_input": "2023-11-30T17:57:42.439228Z",
     "iopub.status.busy": "2023-11-30T17:57:42.438147Z",
     "iopub.status.idle": "2023-11-30T17:57:42.461235Z",
     "shell.execute_reply": "2023-11-30T17:57:42.460321Z"
    },
    "papermill": {
     "duration": 0.053702,
     "end_time": "2023-11-30T17:57:42.463799",
     "exception": false,
     "start_time": "2023-11-30T17:57:42.410097",
     "status": "completed"
    },
    "tags": []
   },
   "outputs": [
    {
     "data": {
      "text/plain": [
       "(C    39\n",
       " A    32\n",
       " B    28\n",
       " Name: abc_group, dtype: int64,\n",
       "   abc_group  Delivery amount\n",
       " 0         A       13389889.0\n",
       " 1         B        2571197.0\n",
       " 2         C         885191.0)"
      ]
     },
     "execution_count": 30,
     "metadata": {},
     "output_type": "execute_result"
    }
   ],
   "source": [
    "# For 2020: ABC analysis\n",
    "dfsale_2020['abc_group'] = ABC_analysis(dfsale_2020, 80, 95)\n",
    "\n",
    "# counting the number of groups\n",
    "abc_count_20 = dfsale_2020['abc_group'].value_counts()\n",
    "\n",
    "#calculate how much for each group\n",
    "abc_sum_20 = dfsale_2020.groupby('abc_group', as_index=False).agg({'Delivery amount':'sum'})\n",
    "abc_count_20.head(), abc_sum_20.head()"
   ]
  },
  {
   "cell_type": "code",
   "execution_count": 31,
   "id": "c7e839fa",
   "metadata": {
    "execution": {
     "iopub.execute_input": "2023-11-30T17:57:42.524040Z",
     "iopub.status.busy": "2023-11-30T17:57:42.523324Z",
     "iopub.status.idle": "2023-11-30T17:57:43.277936Z",
     "shell.execute_reply": "2023-11-30T17:57:43.276829Z"
    },
    "papermill": {
     "duration": 0.788483,
     "end_time": "2023-11-30T17:57:43.280394",
     "exception": false,
     "start_time": "2023-11-30T17:57:42.491911",
     "status": "completed"
    },
    "tags": []
   },
   "outputs": [
    {
     "data": {
      "image/png": "[encoded data removed]",
      "text/plain": [
       "<Figure size 1400x800 with 4 Axes>"
      ]
     },
     "metadata": {},
     "output_type": "display_data"
    }
   ],
   "source": [
    "# Visualize this data\n",
    "fig, axs = plt.subplots(nrows=2, ncols=2, figsize=(14, 8))\n",
    "\n",
    "#2019 year\n",
    "#count chart\n",
    "axs[0, 0].pie(x=abc_count.values, labels=abc_count.index,\\\n",
    "        colors=sns.color_palette('plasma'), autopct='%.2f%%',\\\n",
    "       explode=(0, 0, 0.1), shadow=True)\n",
    "axs[0, 0].set_title('The ratio of products of different groups in 2019', fontsize=12)\n",
    "\n",
    "#sum chart\n",
    "axs[0, 1].pie(x=abc_sum['Delivery amount'], labels=abc_sum['abc_group'],\n",
    "        colors=sns.color_palette('plasma_r'), autopct='%.2f%%',\n",
    "       explode=(0.1, 0, 0), shadow=True)\n",
    "axs[0, 1].set_title('The ratio of deliveries of different groups in 2019', fontsize=12)\n",
    "axs[0, 1].legend(abc_sum['Delivery amount'], loc=3)\n",
    "\n",
    "#2020 year\n",
    "#count chart\n",
    "axs[1, 0].pie(x=abc_count_20.values, labels=abc_count_20.index,\\\n",
    "        colors=sns.color_palette('plasma'), autopct='%.2f%%',\\\n",
    "       explode=(0, 0.1, 0), shadow=True)\n",
    "axs[1, 0].set_title('The ratio of products of different groups in 2020', fontsize=12)\n",
    "\n",
    "#sum chart\n",
    "axs[1, 1].pie(x=abc_sum_20['Delivery amount'], labels=abc_sum_20['abc_group'],\n",
    "        colors=sns.color_palette('plasma_r'), autopct='%.2f%%',\n",
    "       explode=(0.1, 0, 0), shadow=True)\n",
    "axs[1, 1].set_title('The ratio of deliveries of different groups in 2020', fontsize=12)\n",
    "axs[1, 1].legend(abc_sum_20['Delivery amount'], loc=3)\n",
    "\n",
    "\n",
    "plt.show()"
   ]
  },
  {
   "cell_type": "code",
   "execution_count": 32,
   "id": "f5915cb3",
   "metadata": {
    "execution": {
     "iopub.execute_input": "2023-11-30T17:57:43.344267Z",
     "iopub.status.busy": "2023-11-30T17:57:43.343174Z",
     "iopub.status.idle": "2023-11-30T17:57:43.787140Z",
     "shell.execute_reply": "2023-11-30T17:57:43.785962Z"
    },
    "papermill": {
     "duration": 0.477848,
     "end_time": "2023-11-30T17:57:43.789991",
     "exception": false,
     "start_time": "2023-11-30T17:57:43.312143",
     "status": "completed"
    },
    "tags": []
   },
   "outputs": [
    {
     "data": {
      "image/png": "[encoded data removed]",
      "text/plain": [
       "<Figure size 1600x600 with 2 Axes>"
      ]
     },
     "metadata": {},
     "output_type": "display_data"
    }
   ],
   "source": [
    "# Boxplot\n",
    "\n",
    "fig, axs = plt.subplots(nrows=1, ncols=2, figsize=(16, 6))\n",
    "fig.suptitle('Product shares by ABC analysis groups', fontsize=16)\n",
    "\n",
    "#2019\n",
    "sns.boxplot(x=dfsale_2019['Delivery amount']/dfsale_2019['Delivery amount']\\\n",
    "            .sum(), ax=axs[0], palette='plasma', y=dfsale_2019['abc_group'])\n",
    "\n",
    "#2020\n",
    "sns.boxplot(x=dfsale_2020['Delivery amount']/dfsale_2020['Delivery amount']\\\n",
    "            .sum(), ax=axs[1], palette='plasma_r', y=dfsale_2020['abc_group'])\n",
    "\n",
    "axs[0].title.set_text('2019')\n",
    "axs[1].title.set_text('2020')\n",
    "\n",
    "\n",
    "plt.show()"
   ]
  },
  {
   "cell_type": "markdown",
   "id": "3179d2f4",
   "metadata": {
    "papermill": {
     "duration": 0.029073,
     "end_time": "2023-11-30T17:57:43.849180",
     "exception": false,
     "start_time": "2023-11-30T17:57:43.820107",
     "status": "completed"
    },
    "tags": []
   },
   "source": [
    "Pareto law worked in 2019 since 20% of the total sales were attributed to 80% of orders.<br>\n",
    "However in 2020, 80% of the sales were attributed to 32% of the products.<br> According to the second graph, there is a general range expansion and a negative shift of the median.<br><br>\n",
    "\n",
    "**Hypothesis 1:**<br>The range expansion may indicate that there were 'A' category items that were removed in 2020.<br><br>\n",
    "\n",
    "**Hypothesis 2:**<br>The range expansion may indicate that more products (possibly 2020 additions) are responsible for the total number of sales in each group. The mean of all groups has shifted towards the left. The left skewed distribution indicates that a bigger portion of the products (relative to 2019) within the group is responsible for the total number of sales within it.<br><br>\n"
   ]
  },
  {
   "cell_type": "markdown",
   "id": "cac61cb4",
   "metadata": {
    "papermill": {
     "duration": 0.031405,
     "end_time": "2023-11-30T17:57:43.910269",
     "exception": false,
     "start_time": "2023-11-30T17:57:43.878864",
     "status": "completed"
    },
    "tags": []
   },
   "source": [
    "<hr>\n",
    "<h1 style=\"\n",
    "          border-radius:5px; \n",
    "          background-color: #37373b; \n",
    "          color:#f5f2e9; \n",
    "          padding:15px;\n",
    "          letter-spacing: 2px; \n",
    "          font-family: 'JetBrains Mono';\n",
    "          font-size:35px;\n",
    "          border-left: 3px solid #f2bd1d; \n",
    "          border-bottom: 3px outset #f2bd1d;\n",
    "          margin-bottom: 10px;\"> Testing Hypothesis 1</h1>"
   ]
  },
  {
   "cell_type": "markdown",
   "id": "75ffff7a",
   "metadata": {
    "papermill": {
     "duration": 0.031913,
     "end_time": "2023-11-30T17:57:43.972000",
     "exception": false,
     "start_time": "2023-11-30T17:57:43.940087",
     "status": "completed"
    },
    "tags": []
   },
   "source": [
    "**Hypothesis 1:**<br>The range expansion may indicate that there were 'A' category items that were removed in 2020.<br><br>\n",
    "Lets find the items that were removed and how significant they were."
   ]
  },
  {
   "cell_type": "code",
   "execution_count": 33,
   "id": "e1e3704d",
   "metadata": {
    "execution": {
     "iopub.execute_input": "2023-11-30T17:57:44.037875Z",
     "iopub.status.busy": "2023-11-30T17:57:44.036681Z",
     "iopub.status.idle": "2023-11-30T17:57:44.046526Z",
     "shell.execute_reply": "2023-11-30T17:57:44.045447Z"
    },
    "papermill": {
     "duration": 0.045955,
     "end_time": "2023-11-30T17:57:44.048750",
     "exception": false,
     "start_time": "2023-11-30T17:57:44.002795",
     "status": "completed"
    },
    "tags": []
   },
   "outputs": [
    {
     "data": {
      "text/plain": [
       "[497253,\n",
       " 497034,\n",
       " 497037,\n",
       " 497031,\n",
       " 497035,\n",
       " 497033,\n",
       " 497028,\n",
       " 497030,\n",
       " 497032,\n",
       " 497029,\n",
       " 497036,\n",
       " 234028]"
      ]
     },
     "execution_count": 33,
     "metadata": {},
     "output_type": "execute_result"
    }
   ],
   "source": [
    "# Creating list with 'A' products in 2019\n",
    "AGroup_2019 = dfsale_2019.loc[dfsale_2019['abc_group']=='A', 'Product code'].to_list()\n",
    "AGroup_2019"
   ]
  },
  {
   "cell_type": "code",
   "execution_count": 34,
   "id": "0e95bac8",
   "metadata": {
    "execution": {
     "iopub.execute_input": "2023-11-30T17:57:44.112901Z",
     "iopub.status.busy": "2023-11-30T17:57:44.111484Z",
     "iopub.status.idle": "2023-11-30T17:57:44.125351Z",
     "shell.execute_reply": "2023-11-30T17:57:44.124368Z"
    },
    "papermill": {
     "duration": 0.049501,
     "end_time": "2023-11-30T17:57:44.127656",
     "exception": false,
     "start_time": "2023-11-30T17:57:44.078155",
     "status": "completed"
    },
    "tags": []
   },
   "outputs": [
    {
     "data": {
      "text/html": [
       "<div>\n",
       "<style scoped>\n",
       "    .dataframe tbody tr th:only-of-type {\n",
       "        vertical-align: middle;\n",
       "    }\n",
       "\n",
       "    .dataframe tbody tr th {\n",
       "        vertical-align: top;\n",
       "    }\n",
       "\n",
       "    .dataframe thead th {\n",
       "        text-align: right;\n",
       "    }\n",
       "</style>\n",
       "<table border=\"1\" class=\"dataframe\">\n",
       "  <thead>\n",
       "    <tr style=\"text-align: right;\">\n",
       "      <th></th>\n",
       "      <th>Product code</th>\n",
       "    </tr>\n",
       "  </thead>\n",
       "  <tbody>\n",
       "    <tr>\n",
       "      <th>2</th>\n",
       "      <td>497037</td>\n",
       "    </tr>\n",
       "    <tr>\n",
       "      <th>3</th>\n",
       "      <td>497031</td>\n",
       "    </tr>\n",
       "    <tr>\n",
       "      <th>4</th>\n",
       "      <td>497035</td>\n",
       "    </tr>\n",
       "    <tr>\n",
       "      <th>5</th>\n",
       "      <td>497033</td>\n",
       "    </tr>\n",
       "    <tr>\n",
       "      <th>9</th>\n",
       "      <td>497029</td>\n",
       "    </tr>\n",
       "    <tr>\n",
       "      <th>10</th>\n",
       "      <td>497036</td>\n",
       "    </tr>\n",
       "  </tbody>\n",
       "</table>\n",
       "</div>"
      ],
      "text/plain": [
       "    Product code\n",
       "2         497037\n",
       "3         497031\n",
       "4         497035\n",
       "5         497033\n",
       "9         497029\n",
       "10        497036"
      ]
     },
     "execution_count": 34,
     "metadata": {},
     "output_type": "execute_result"
    }
   ],
   "source": [
    "# Turning list to data frame and adding Delivery column\n",
    "AGroup_2019 = pd.DataFrame(AGroup_2019, columns=['Product code'])\n",
    "\n",
    "# Excluding 2020 Products to find which were removed\n",
    "AGroupCode = AGroup_2019[~AGroup_2019['Product code'].isin(data_2020['Product code'].to_list())]\n",
    "AGroupCode.head(20)"
   ]
  },
  {
   "cell_type": "code",
   "execution_count": 35,
   "id": "6ef715ca",
   "metadata": {
    "execution": {
     "iopub.execute_input": "2023-11-30T17:57:44.191100Z",
     "iopub.status.busy": "2023-11-30T17:57:44.190359Z",
     "iopub.status.idle": "2023-11-30T17:57:44.194966Z",
     "shell.execute_reply": "2023-11-30T17:57:44.194041Z"
    },
    "papermill": {
     "duration": 0.040404,
     "end_time": "2023-11-30T17:57:44.197861",
     "exception": false,
     "start_time": "2023-11-30T17:57:44.157457",
     "status": "completed"
    },
    "tags": []
   },
   "outputs": [],
   "source": [
    "# Adding these codes to a list\n",
    "AGroupCode = AGroupCode['Product code'].to_list()"
   ]
  },
  {
   "cell_type": "code",
   "execution_count": 36,
   "id": "be3833f3",
   "metadata": {
    "execution": {
     "iopub.execute_input": "2023-11-30T17:57:44.265224Z",
     "iopub.status.busy": "2023-11-30T17:57:44.263966Z",
     "iopub.status.idle": "2023-11-30T17:57:44.277148Z",
     "shell.execute_reply": "2023-11-30T17:57:44.275522Z"
    },
    "papermill": {
     "duration": 0.050817,
     "end_time": "2023-11-30T17:57:44.279779",
     "exception": false,
     "start_time": "2023-11-30T17:57:44.228962",
     "status": "completed"
    },
    "tags": []
   },
   "outputs": [
    {
     "data": {
      "text/plain": [
       "3791398"
      ]
     },
     "execution_count": 36,
     "metadata": {},
     "output_type": "execute_result"
    }
   ],
   "source": [
    "# How many deliveries were those products responsible for\n",
    "AGroupSum = data_2019[data_2019['Product code'].isin(AGroupCode)]['Delivery amount'].sum()\n",
    "AGroupSum"
   ]
  },
  {
   "cell_type": "code",
   "execution_count": 37,
   "id": "67fc9bcd",
   "metadata": {
    "execution": {
     "iopub.execute_input": "2023-11-30T17:57:44.345899Z",
     "iopub.status.busy": "2023-11-30T17:57:44.345456Z",
     "iopub.status.idle": "2023-11-30T17:57:44.354078Z",
     "shell.execute_reply": "2023-11-30T17:57:44.352817Z"
    },
    "papermill": {
     "duration": 0.045756,
     "end_time": "2023-11-30T17:57:44.356936",
     "exception": false,
     "start_time": "2023-11-30T17:57:44.311180",
     "status": "completed"
    },
    "tags": []
   },
   "outputs": [
    {
     "data": {
      "text/plain": [
       "39.86562142991206"
      ]
     },
     "execution_count": 37,
     "metadata": {},
     "output_type": "execute_result"
    }
   ],
   "source": [
    "# Removed products: Percentage of 2019 sales\n",
    "AGroupSum / data_2019['Delivery amount'].sum()*100"
   ]
  },
  {
   "cell_type": "markdown",
   "id": "c4a3d813",
   "metadata": {
    "papermill": {
     "duration": 0.032727,
     "end_time": "2023-11-30T17:57:44.421008",
     "exception": false,
     "start_time": "2023-11-30T17:57:44.388281",
     "status": "completed"
    },
    "tags": []
   },
   "source": [
    "So the removed products were responsible for **7,791,398** **deliveries** and attributed **40% of the total 2019 sales**."
   ]
  },
  {
   "cell_type": "code",
   "execution_count": 38,
   "id": "80eb230c",
   "metadata": {
    "execution": {
     "iopub.execute_input": "2023-11-30T17:57:44.488421Z",
     "iopub.status.busy": "2023-11-30T17:57:44.487875Z",
     "iopub.status.idle": "2023-11-30T17:57:44.496829Z",
     "shell.execute_reply": "2023-11-30T17:57:44.495311Z"
    },
    "papermill": {
     "duration": 0.04615,
     "end_time": "2023-11-30T17:57:44.499392",
     "exception": false,
     "start_time": "2023-11-30T17:57:44.453242",
     "status": "completed"
    },
    "tags": []
   },
   "outputs": [],
   "source": [
    "# Let's check the new A group products of 2020\n",
    "AGroupCodeSup = AGroup_2019[AGroup_2019['Product code'].isin(data_2020['Product code'].to_list())]"
   ]
  },
  {
   "cell_type": "code",
   "execution_count": 39,
   "id": "37f7e8b7",
   "metadata": {
    "execution": {
     "iopub.execute_input": "2023-11-30T17:57:44.565553Z",
     "iopub.status.busy": "2023-11-30T17:57:44.565127Z",
     "iopub.status.idle": "2023-11-30T17:57:44.578290Z",
     "shell.execute_reply": "2023-11-30T17:57:44.576981Z"
    },
    "papermill": {
     "duration": 0.049801,
     "end_time": "2023-11-30T17:57:44.581035",
     "exception": false,
     "start_time": "2023-11-30T17:57:44.531234",
     "status": "completed"
    },
    "tags": []
   },
   "outputs": [
    {
     "data": {
      "text/plain": [
       "Delivery amount    506094.0\n",
       "dtype: float64"
      ]
     },
     "execution_count": 39,
     "metadata": {},
     "output_type": "execute_result"
    }
   ],
   "source": [
    "# New 2020 products delivery sum\n",
    "AGroupSumSup = data_2020[data_2020['Product code']\\\n",
    "                         .isin(AGroupCodeSup['Product code'].to_list())]\\\n",
    "                         .agg({'Delivery amount': 'sum'})\n",
    "AGroupSumSup"
   ]
  },
  {
   "cell_type": "code",
   "execution_count": 40,
   "id": "c5d1922c",
   "metadata": {
    "execution": {
     "iopub.execute_input": "2023-11-30T17:57:44.650814Z",
     "iopub.status.busy": "2023-11-30T17:57:44.650327Z",
     "iopub.status.idle": "2023-11-30T17:57:44.662047Z",
     "shell.execute_reply": "2023-11-30T17:57:44.661045Z"
    },
    "papermill": {
     "duration": 0.050035,
     "end_time": "2023-11-30T17:57:44.664266",
     "exception": false,
     "start_time": "2023-11-30T17:57:44.614231",
     "status": "completed"
    },
    "tags": []
   },
   "outputs": [
    {
     "data": {
      "text/plain": [
       "Delivery amount    3.004189\n",
       "dtype: float64"
      ]
     },
     "execution_count": 40,
     "metadata": {},
     "output_type": "execute_result"
    }
   ],
   "source": [
    "# New products: Percentage of 2020 sales\n",
    "AGroupSumSup / data_2020['Delivery amount'].sum()*100"
   ]
  },
  {
   "cell_type": "markdown",
   "id": "07c33c7c",
   "metadata": {
    "papermill": {
     "duration": 0.033528,
     "end_time": "2023-11-30T17:57:44.729660",
     "exception": false,
     "start_time": "2023-11-30T17:57:44.696132",
     "status": "completed"
    },
    "tags": []
   },
   "source": [
    "So the new products were responsible for **506,094 deliveries** and attributed **3% of the total 2020 sales**.<br><br>\n",
    "The **6 products** that were removed in 2020 were responsible for **40% of the total sales in 2019**."
   ]
  },
  {
   "cell_type": "markdown",
   "id": "3ad003e6",
   "metadata": {
    "papermill": {
     "duration": 0.032627,
     "end_time": "2023-11-30T17:57:44.794250",
     "exception": false,
     "start_time": "2023-11-30T17:57:44.761623",
     "status": "completed"
    },
    "tags": []
   },
   "source": [
    "<hr>\n",
    "<h1 style=\"\n",
    "          border-radius:5px; \n",
    "          background-color: #37373b; \n",
    "          color:#f5f2e9; \n",
    "          padding:15px;\n",
    "          letter-spacing: 2px; \n",
    "          font-family: 'JetBrains Mono';\n",
    "          font-size:35px;\n",
    "          border-left: 3px solid #f2bd1d; \n",
    "          border-bottom: 3px outset #f2bd1d;\n",
    "          margin-bottom: 10px;\"> Testing Hypothesis 2</h1>"
   ]
  },
  {
   "cell_type": "markdown",
   "id": "28bfa388",
   "metadata": {
    "papermill": {
     "duration": 0.032249,
     "end_time": "2023-11-30T17:57:44.860273",
     "exception": false,
     "start_time": "2023-11-30T17:57:44.828024",
     "status": "completed"
    },
    "tags": []
   },
   "source": [
    "**Hypothesis 2:**<br><br>\n",
    "New, well performing, products were introduced in 2020."
   ]
  },
  {
   "cell_type": "code",
   "execution_count": 41,
   "id": "f7ec1558",
   "metadata": {
    "execution": {
     "iopub.execute_input": "2023-11-30T17:57:44.925055Z",
     "iopub.status.busy": "2023-11-30T17:57:44.924583Z",
     "iopub.status.idle": "2023-11-30T17:57:44.934338Z",
     "shell.execute_reply": "2023-11-30T17:57:44.933422Z"
    },
    "papermill": {
     "duration": 0.043908,
     "end_time": "2023-11-30T17:57:44.936572",
     "exception": false,
     "start_time": "2023-11-30T17:57:44.892664",
     "status": "completed"
    },
    "tags": []
   },
   "outputs": [
    {
     "data": {
      "text/plain": [
       "35"
      ]
     },
     "execution_count": 41,
     "metadata": {},
     "output_type": "execute_result"
    }
   ],
   "source": [
    "# New products brought in 2020\n",
    "len(data_2020['Product code'].value_counts()) - len(data_2019['Product code'].value_counts())"
   ]
  },
  {
   "cell_type": "markdown",
   "id": "4f1d1f09",
   "metadata": {
    "papermill": {
     "duration": 0.032223,
     "end_time": "2023-11-30T17:57:45.000879",
     "exception": false,
     "start_time": "2023-11-30T17:57:44.968656",
     "status": "completed"
    },
    "tags": []
   },
   "source": [
    "Let's check how many deliveries and what percentage of the total 2020 sales, these products are responsible for."
   ]
  },
  {
   "cell_type": "code",
   "execution_count": 42,
   "id": "12c50900",
   "metadata": {
    "execution": {
     "iopub.execute_input": "2023-11-30T17:57:45.067630Z",
     "iopub.status.busy": "2023-11-30T17:57:45.066844Z",
     "iopub.status.idle": "2023-11-30T17:57:45.076472Z",
     "shell.execute_reply": "2023-11-30T17:57:45.075238Z"
    },
    "papermill": {
     "duration": 0.046472,
     "end_time": "2023-11-30T17:57:45.079554",
     "exception": false,
     "start_time": "2023-11-30T17:57:45.033082",
     "status": "completed"
    },
    "tags": []
   },
   "outputs": [
    {
     "data": {
      "text/plain": [
       "(89.61193621593662, 15096275.0)"
      ]
     },
     "execution_count": 42,
     "metadata": {},
     "output_type": "execute_result"
    }
   ],
   "source": [
    "# delivery sum of unique 2020 products\n",
    "sum_new_2020 = data_2020[~data_2020['Product code'].isin(code)]['Delivery amount'].sum()\n",
    "\n",
    "# percentage of the total 2020 sales\n",
    "sum_new_2020/dfsale_2020['Delivery amount'].sum()*100 ,sum_new_2020"
   ]
  },
  {
   "cell_type": "markdown",
   "id": "55e7bf33",
   "metadata": {
    "papermill": {
     "duration": 0.030373,
     "end_time": "2023-11-30T17:57:45.140654",
     "exception": false,
     "start_time": "2023-11-30T17:57:45.110281",
     "status": "completed"
    },
    "tags": []
   },
   "source": [
    "So the **35 new products** are responsible for **15,096,275 deliveries** and amounted to **90% of the total supply in 2020**."
   ]
  },
  {
   "cell_type": "markdown",
   "id": "0a1cad35",
   "metadata": {
    "papermill": {
     "duration": 0.031511,
     "end_time": "2023-11-30T17:57:45.203605",
     "exception": false,
     "start_time": "2023-11-30T17:57:45.172094",
     "status": "completed"
    },
    "tags": []
   },
   "source": [
    "<hr>\n",
    "<h1 style=\"\n",
    "          text-align: center;\n",
    "          border-radius:5px; \n",
    "          background-color: #37373b; \n",
    "          color:#f5f2e9; \n",
    "          padding:15px;\n",
    "          letter-spacing: 2px; \n",
    "          font-family: 'JetBrains Mono';\n",
    "          font-size:38px;\n",
    "          border-left: 3px solid #f2bd1d; \n",
    "          border-bottom: 3px outset #f2bd1d;\n",
    "          margin-bottom: 10px;\"> Client Analysis</h1>"
   ]
  },
  {
   "cell_type": "markdown",
   "id": "1826493b",
   "metadata": {
    "papermill": {
     "duration": 0.031573,
     "end_time": "2023-11-30T17:57:45.267267",
     "exception": false,
     "start_time": "2023-11-30T17:57:45.235694",
     "status": "completed"
    },
    "tags": []
   },
   "source": [
    "Finding delivery increase for each individual client throughout 2019 and 2020.<br>\n",
    "* 1st Table: 2019 client list<br>\n",
    "* 2nd Table: 2020 client list<br>\n",
    "* 3rd Table: Delivery increase between 2019 and 2020"
   ]
  },
  {
   "cell_type": "code",
   "execution_count": 43,
   "id": "9b7d4e96",
   "metadata": {
    "execution": {
     "iopub.execute_input": "2023-11-30T17:57:45.336151Z",
     "iopub.status.busy": "2023-11-30T17:57:45.335335Z",
     "iopub.status.idle": "2023-11-30T17:57:45.353978Z",
     "shell.execute_reply": "2023-11-30T17:57:45.352808Z"
    },
    "papermill": {
     "duration": 0.057145,
     "end_time": "2023-11-30T17:57:45.356347",
     "exception": false,
     "start_time": "2023-11-30T17:57:45.299202",
     "status": "completed"
    },
    "tags": []
   },
   "outputs": [
    {
     "data": {
      "text/html": [
       "<div>\n",
       "<style scoped>\n",
       "    .dataframe tbody tr th:only-of-type {\n",
       "        vertical-align: middle;\n",
       "    }\n",
       "\n",
       "    .dataframe tbody tr th {\n",
       "        vertical-align: top;\n",
       "    }\n",
       "\n",
       "    .dataframe thead th {\n",
       "        text-align: right;\n",
       "    }\n",
       "</style>\n",
       "<table border=\"1\" class=\"dataframe\">\n",
       "  <thead>\n",
       "    <tr style=\"text-align: right;\">\n",
       "      <th></th>\n",
       "      <th>Client ID</th>\n",
       "      <th>Delivery amount</th>\n",
       "      <th>Date of delivery</th>\n",
       "    </tr>\n",
       "  </thead>\n",
       "  <tbody>\n",
       "    <tr>\n",
       "      <th>20</th>\n",
       "      <td>7167</td>\n",
       "      <td>1394776</td>\n",
       "      <td>46</td>\n",
       "    </tr>\n",
       "    <tr>\n",
       "      <th>12</th>\n",
       "      <td>7136</td>\n",
       "      <td>879094</td>\n",
       "      <td>24</td>\n",
       "    </tr>\n",
       "    <tr>\n",
       "      <th>6</th>\n",
       "      <td>7126</td>\n",
       "      <td>609863</td>\n",
       "      <td>14</td>\n",
       "    </tr>\n",
       "    <tr>\n",
       "      <th>3</th>\n",
       "      <td>7118</td>\n",
       "      <td>594290</td>\n",
       "      <td>13</td>\n",
       "    </tr>\n",
       "    <tr>\n",
       "      <th>19</th>\n",
       "      <td>7161</td>\n",
       "      <td>500806</td>\n",
       "      <td>13</td>\n",
       "    </tr>\n",
       "    <tr>\n",
       "      <th>1</th>\n",
       "      <td>7111</td>\n",
       "      <td>495917</td>\n",
       "      <td>11</td>\n",
       "    </tr>\n",
       "    <tr>\n",
       "      <th>7</th>\n",
       "      <td>7128</td>\n",
       "      <td>481214</td>\n",
       "      <td>11</td>\n",
       "    </tr>\n",
       "    <tr>\n",
       "      <th>8</th>\n",
       "      <td>7129</td>\n",
       "      <td>478618</td>\n",
       "      <td>12</td>\n",
       "    </tr>\n",
       "    <tr>\n",
       "      <th>4</th>\n",
       "      <td>7121</td>\n",
       "      <td>469834</td>\n",
       "      <td>14</td>\n",
       "    </tr>\n",
       "    <tr>\n",
       "      <th>10</th>\n",
       "      <td>7134</td>\n",
       "      <td>454521</td>\n",
       "      <td>13</td>\n",
       "    </tr>\n",
       "    <tr>\n",
       "      <th>5</th>\n",
       "      <td>7125</td>\n",
       "      <td>427334</td>\n",
       "      <td>12</td>\n",
       "    </tr>\n",
       "    <tr>\n",
       "      <th>0</th>\n",
       "      <td>7110</td>\n",
       "      <td>423763</td>\n",
       "      <td>13</td>\n",
       "    </tr>\n",
       "    <tr>\n",
       "      <th>16</th>\n",
       "      <td>7146</td>\n",
       "      <td>367040</td>\n",
       "      <td>12</td>\n",
       "    </tr>\n",
       "    <tr>\n",
       "      <th>9</th>\n",
       "      <td>7131</td>\n",
       "      <td>360979</td>\n",
       "      <td>11</td>\n",
       "    </tr>\n",
       "    <tr>\n",
       "      <th>2</th>\n",
       "      <td>7114</td>\n",
       "      <td>342189</td>\n",
       "      <td>10</td>\n",
       "    </tr>\n",
       "    <tr>\n",
       "      <th>13</th>\n",
       "      <td>7138</td>\n",
       "      <td>323719</td>\n",
       "      <td>11</td>\n",
       "    </tr>\n",
       "    <tr>\n",
       "      <th>17</th>\n",
       "      <td>7155</td>\n",
       "      <td>314504</td>\n",
       "      <td>10</td>\n",
       "    </tr>\n",
       "    <tr>\n",
       "      <th>14</th>\n",
       "      <td>7139</td>\n",
       "      <td>281316</td>\n",
       "      <td>11</td>\n",
       "    </tr>\n",
       "    <tr>\n",
       "      <th>18</th>\n",
       "      <td>7158</td>\n",
       "      <td>218986</td>\n",
       "      <td>6</td>\n",
       "    </tr>\n",
       "    <tr>\n",
       "      <th>15</th>\n",
       "      <td>7140</td>\n",
       "      <td>50208</td>\n",
       "      <td>2</td>\n",
       "    </tr>\n",
       "    <tr>\n",
       "      <th>11</th>\n",
       "      <td>7135</td>\n",
       "      <td>41474</td>\n",
       "      <td>2</td>\n",
       "    </tr>\n",
       "  </tbody>\n",
       "</table>\n",
       "</div>"
      ],
      "text/plain": [
       "    Client ID  Delivery amount  Date of delivery\n",
       "20       7167          1394776                46\n",
       "12       7136           879094                24\n",
       "6        7126           609863                14\n",
       "3        7118           594290                13\n",
       "19       7161           500806                13\n",
       "1        7111           495917                11\n",
       "7        7128           481214                11\n",
       "8        7129           478618                12\n",
       "4        7121           469834                14\n",
       "10       7134           454521                13\n",
       "5        7125           427334                12\n",
       "0        7110           423763                13\n",
       "16       7146           367040                12\n",
       "9        7131           360979                11\n",
       "2        7114           342189                10\n",
       "13       7138           323719                11\n",
       "17       7155           314504                10\n",
       "14       7139           281316                11\n",
       "18       7158           218986                 6\n",
       "15       7140            50208                 2\n",
       "11       7135            41474                 2"
      ]
     },
     "execution_count": 43,
     "metadata": {},
     "output_type": "execute_result"
    }
   ],
   "source": [
    "# For 2019: Delivery amount per client\n",
    "shop_2019 = data_2019.groupby(['Client ID'], as_index=False)\\\n",
    "    .agg({'Delivery amount':'sum', 'Date of delivery':'count'})\\\n",
    "    .sort_values(by='Delivery amount', ascending=False)\n",
    "shop_2019"
   ]
  },
  {
   "cell_type": "code",
   "execution_count": 44,
   "id": "a3d48d2c",
   "metadata": {
    "execution": {
     "iopub.execute_input": "2023-11-30T17:57:45.424280Z",
     "iopub.status.busy": "2023-11-30T17:57:45.423694Z",
     "iopub.status.idle": "2023-11-30T17:57:45.446097Z",
     "shell.execute_reply": "2023-11-30T17:57:45.444739Z"
    },
    "papermill": {
     "duration": 0.060092,
     "end_time": "2023-11-30T17:57:45.449755",
     "exception": false,
     "start_time": "2023-11-30T17:57:45.389663",
     "status": "completed"
    },
    "tags": []
   },
   "outputs": [
    {
     "data": {
      "text/html": [
       "<div>\n",
       "<style scoped>\n",
       "    .dataframe tbody tr th:only-of-type {\n",
       "        vertical-align: middle;\n",
       "    }\n",
       "\n",
       "    .dataframe tbody tr th {\n",
       "        vertical-align: top;\n",
       "    }\n",
       "\n",
       "    .dataframe thead th {\n",
       "        text-align: right;\n",
       "    }\n",
       "</style>\n",
       "<table border=\"1\" class=\"dataframe\">\n",
       "  <thead>\n",
       "    <tr style=\"text-align: right;\">\n",
       "      <th></th>\n",
       "      <th>Client ID</th>\n",
       "      <th>Delivery amount</th>\n",
       "      <th>Date of delivery</th>\n",
       "    </tr>\n",
       "  </thead>\n",
       "  <tbody>\n",
       "    <tr>\n",
       "      <th>18</th>\n",
       "      <td>7158</td>\n",
       "      <td>2035274.0</td>\n",
       "      <td>66</td>\n",
       "    </tr>\n",
       "    <tr>\n",
       "      <th>10</th>\n",
       "      <td>7134</td>\n",
       "      <td>1479166.0</td>\n",
       "      <td>41</td>\n",
       "    </tr>\n",
       "    <tr>\n",
       "      <th>19</th>\n",
       "      <td>7161</td>\n",
       "      <td>1421475.0</td>\n",
       "      <td>39</td>\n",
       "    </tr>\n",
       "    <tr>\n",
       "      <th>12</th>\n",
       "      <td>7136</td>\n",
       "      <td>1296929.0</td>\n",
       "      <td>41</td>\n",
       "    </tr>\n",
       "    <tr>\n",
       "      <th>6</th>\n",
       "      <td>7126</td>\n",
       "      <td>1105069.0</td>\n",
       "      <td>32</td>\n",
       "    </tr>\n",
       "    <tr>\n",
       "      <th>3</th>\n",
       "      <td>7118</td>\n",
       "      <td>1082123.0</td>\n",
       "      <td>31</td>\n",
       "    </tr>\n",
       "    <tr>\n",
       "      <th>4</th>\n",
       "      <td>7121</td>\n",
       "      <td>797343.0</td>\n",
       "      <td>23</td>\n",
       "    </tr>\n",
       "    <tr>\n",
       "      <th>15</th>\n",
       "      <td>7140</td>\n",
       "      <td>737001.0</td>\n",
       "      <td>17</td>\n",
       "    </tr>\n",
       "    <tr>\n",
       "      <th>20</th>\n",
       "      <td>7167</td>\n",
       "      <td>712610.0</td>\n",
       "      <td>23</td>\n",
       "    </tr>\n",
       "    <tr>\n",
       "      <th>16</th>\n",
       "      <td>7146</td>\n",
       "      <td>687517.0</td>\n",
       "      <td>22</td>\n",
       "    </tr>\n",
       "    <tr>\n",
       "      <th>13</th>\n",
       "      <td>7138</td>\n",
       "      <td>673481.0</td>\n",
       "      <td>26</td>\n",
       "    </tr>\n",
       "    <tr>\n",
       "      <th>14</th>\n",
       "      <td>7139</td>\n",
       "      <td>652626.0</td>\n",
       "      <td>17</td>\n",
       "    </tr>\n",
       "    <tr>\n",
       "      <th>7</th>\n",
       "      <td>7128</td>\n",
       "      <td>579099.0</td>\n",
       "      <td>18</td>\n",
       "    </tr>\n",
       "    <tr>\n",
       "      <th>11</th>\n",
       "      <td>7135</td>\n",
       "      <td>566693.0</td>\n",
       "      <td>17</td>\n",
       "    </tr>\n",
       "    <tr>\n",
       "      <th>5</th>\n",
       "      <td>7125</td>\n",
       "      <td>554264.0</td>\n",
       "      <td>16</td>\n",
       "    </tr>\n",
       "    <tr>\n",
       "      <th>9</th>\n",
       "      <td>7131</td>\n",
       "      <td>489295.0</td>\n",
       "      <td>13</td>\n",
       "    </tr>\n",
       "    <tr>\n",
       "      <th>0</th>\n",
       "      <td>7110</td>\n",
       "      <td>473515.0</td>\n",
       "      <td>17</td>\n",
       "    </tr>\n",
       "    <tr>\n",
       "      <th>17</th>\n",
       "      <td>7155</td>\n",
       "      <td>410269.0</td>\n",
       "      <td>11</td>\n",
       "    </tr>\n",
       "    <tr>\n",
       "      <th>8</th>\n",
       "      <td>7129</td>\n",
       "      <td>400437.0</td>\n",
       "      <td>13</td>\n",
       "    </tr>\n",
       "    <tr>\n",
       "      <th>2</th>\n",
       "      <td>7114</td>\n",
       "      <td>353034.0</td>\n",
       "      <td>11</td>\n",
       "    </tr>\n",
       "    <tr>\n",
       "      <th>1</th>\n",
       "      <td>7111</td>\n",
       "      <td>339057.0</td>\n",
       "      <td>13</td>\n",
       "    </tr>\n",
       "  </tbody>\n",
       "</table>\n",
       "</div>"
      ],
      "text/plain": [
       "    Client ID  Delivery amount  Date of delivery\n",
       "18       7158        2035274.0                66\n",
       "10       7134        1479166.0                41\n",
       "19       7161        1421475.0                39\n",
       "12       7136        1296929.0                41\n",
       "6        7126        1105069.0                32\n",
       "3        7118        1082123.0                31\n",
       "4        7121         797343.0                23\n",
       "15       7140         737001.0                17\n",
       "20       7167         712610.0                23\n",
       "16       7146         687517.0                22\n",
       "13       7138         673481.0                26\n",
       "14       7139         652626.0                17\n",
       "7        7128         579099.0                18\n",
       "11       7135         566693.0                17\n",
       "5        7125         554264.0                16\n",
       "9        7131         489295.0                13\n",
       "0        7110         473515.0                17\n",
       "17       7155         410269.0                11\n",
       "8        7129         400437.0                13\n",
       "2        7114         353034.0                11\n",
       "1        7111         339057.0                13"
      ]
     },
     "execution_count": 44,
     "metadata": {},
     "output_type": "execute_result"
    }
   ],
   "source": [
    "# For 2020: Delivery amount per client\n",
    "shop_2020 = data_2020.groupby(['Client ID'], as_index=False)\\\n",
    "    .agg({'Delivery amount':'sum', 'Date of delivery':'count'})\\\n",
    "    .sort_values(by='Delivery amount', ascending=False)\n",
    "shop_2020"
   ]
  },
  {
   "cell_type": "code",
   "execution_count": 45,
   "id": "e0dc1bb9",
   "metadata": {
    "execution": {
     "iopub.execute_input": "2023-11-30T17:57:45.518881Z",
     "iopub.status.busy": "2023-11-30T17:57:45.518044Z",
     "iopub.status.idle": "2023-11-30T17:57:45.530548Z",
     "shell.execute_reply": "2023-11-30T17:57:45.529272Z"
    },
    "papermill": {
     "duration": 0.04973,
     "end_time": "2023-11-30T17:57:45.534117",
     "exception": false,
     "start_time": "2023-11-30T17:57:45.484387",
     "status": "completed"
    },
    "tags": []
   },
   "outputs": [],
   "source": [
    "# Combine 2019 and 2020 data\n",
    "\n",
    "sales_to_shops = shop_2019.merge(shop_2020, left_on='Client ID', right_on='Client ID', suffixes=('_2019', '_2020'))\n",
    "\n",
    "\n",
    "# Delivery amount increase\n",
    "\n",
    "sales_to_shops['Delivery amount increase'] = sales_to_shops['Delivery amount_2020'] - sales_to_shops['Delivery amount_2019']\n",
    "\n",
    "# Delivery amount increase [%]\n",
    "\n",
    "sales_to_shops['Growth of delivery amount %'] = \\\n",
    "    (sales_to_shops['Delivery amount_2020']/sales_to_shops['Delivery amount_2019'])* 100 - 100"
   ]
  },
  {
   "cell_type": "code",
   "execution_count": 46,
   "id": "e361e862",
   "metadata": {
    "execution": {
     "iopub.execute_input": "2023-11-30T17:57:45.599993Z",
     "iopub.status.busy": "2023-11-30T17:57:45.599500Z",
     "iopub.status.idle": "2023-11-30T17:57:45.622901Z",
     "shell.execute_reply": "2023-11-30T17:57:45.621033Z"
    },
    "papermill": {
     "duration": 0.059402,
     "end_time": "2023-11-30T17:57:45.625274",
     "exception": false,
     "start_time": "2023-11-30T17:57:45.565872",
     "status": "completed"
    },
    "tags": []
   },
   "outputs": [
    {
     "data": {
      "text/html": [
       "<div>\n",
       "<style scoped>\n",
       "    .dataframe tbody tr th:only-of-type {\n",
       "        vertical-align: middle;\n",
       "    }\n",
       "\n",
       "    .dataframe tbody tr th {\n",
       "        vertical-align: top;\n",
       "    }\n",
       "\n",
       "    .dataframe thead th {\n",
       "        text-align: right;\n",
       "    }\n",
       "</style>\n",
       "<table border=\"1\" class=\"dataframe\">\n",
       "  <thead>\n",
       "    <tr style=\"text-align: right;\">\n",
       "      <th></th>\n",
       "      <th>Client ID</th>\n",
       "      <th>Delivery amount_2019</th>\n",
       "      <th>Date of delivery_2019</th>\n",
       "      <th>Delivery amount_2020</th>\n",
       "      <th>Date of delivery_2020</th>\n",
       "      <th>Delivery amount increase</th>\n",
       "      <th>Growth of delivery amount %</th>\n",
       "    </tr>\n",
       "  </thead>\n",
       "  <tbody>\n",
       "    <tr>\n",
       "      <th>18</th>\n",
       "      <td>7158</td>\n",
       "      <td>218986</td>\n",
       "      <td>6</td>\n",
       "      <td>2035274.0</td>\n",
       "      <td>66</td>\n",
       "      <td>1816288.0</td>\n",
       "      <td>829.408273</td>\n",
       "    </tr>\n",
       "    <tr>\n",
       "      <th>9</th>\n",
       "      <td>7134</td>\n",
       "      <td>454521</td>\n",
       "      <td>13</td>\n",
       "      <td>1479166.0</td>\n",
       "      <td>41</td>\n",
       "      <td>1024645.0</td>\n",
       "      <td>225.434028</td>\n",
       "    </tr>\n",
       "    <tr>\n",
       "      <th>4</th>\n",
       "      <td>7161</td>\n",
       "      <td>500806</td>\n",
       "      <td>13</td>\n",
       "      <td>1421475.0</td>\n",
       "      <td>39</td>\n",
       "      <td>920669.0</td>\n",
       "      <td>183.837454</td>\n",
       "    </tr>\n",
       "    <tr>\n",
       "      <th>19</th>\n",
       "      <td>7140</td>\n",
       "      <td>50208</td>\n",
       "      <td>2</td>\n",
       "      <td>737001.0</td>\n",
       "      <td>17</td>\n",
       "      <td>686793.0</td>\n",
       "      <td>1367.895554</td>\n",
       "    </tr>\n",
       "    <tr>\n",
       "      <th>20</th>\n",
       "      <td>7135</td>\n",
       "      <td>41474</td>\n",
       "      <td>2</td>\n",
       "      <td>566693.0</td>\n",
       "      <td>17</td>\n",
       "      <td>525219.0</td>\n",
       "      <td>1266.381347</td>\n",
       "    </tr>\n",
       "    <tr>\n",
       "      <th>2</th>\n",
       "      <td>7126</td>\n",
       "      <td>609863</td>\n",
       "      <td>14</td>\n",
       "      <td>1105069.0</td>\n",
       "      <td>32</td>\n",
       "      <td>495206.0</td>\n",
       "      <td>81.199548</td>\n",
       "    </tr>\n",
       "    <tr>\n",
       "      <th>3</th>\n",
       "      <td>7118</td>\n",
       "      <td>594290</td>\n",
       "      <td>13</td>\n",
       "      <td>1082123.0</td>\n",
       "      <td>31</td>\n",
       "      <td>487833.0</td>\n",
       "      <td>82.086692</td>\n",
       "    </tr>\n",
       "    <tr>\n",
       "      <th>1</th>\n",
       "      <td>7136</td>\n",
       "      <td>879094</td>\n",
       "      <td>24</td>\n",
       "      <td>1296929.0</td>\n",
       "      <td>41</td>\n",
       "      <td>417835.0</td>\n",
       "      <td>47.530184</td>\n",
       "    </tr>\n",
       "    <tr>\n",
       "      <th>17</th>\n",
       "      <td>7139</td>\n",
       "      <td>281316</td>\n",
       "      <td>11</td>\n",
       "      <td>652626.0</td>\n",
       "      <td>17</td>\n",
       "      <td>371310.0</td>\n",
       "      <td>131.990360</td>\n",
       "    </tr>\n",
       "    <tr>\n",
       "      <th>15</th>\n",
       "      <td>7138</td>\n",
       "      <td>323719</td>\n",
       "      <td>11</td>\n",
       "      <td>673481.0</td>\n",
       "      <td>26</td>\n",
       "      <td>349762.0</td>\n",
       "      <td>108.044940</td>\n",
       "    </tr>\n",
       "    <tr>\n",
       "      <th>8</th>\n",
       "      <td>7121</td>\n",
       "      <td>469834</td>\n",
       "      <td>14</td>\n",
       "      <td>797343.0</td>\n",
       "      <td>23</td>\n",
       "      <td>327509.0</td>\n",
       "      <td>69.707386</td>\n",
       "    </tr>\n",
       "    <tr>\n",
       "      <th>12</th>\n",
       "      <td>7146</td>\n",
       "      <td>367040</td>\n",
       "      <td>12</td>\n",
       "      <td>687517.0</td>\n",
       "      <td>22</td>\n",
       "      <td>320477.0</td>\n",
       "      <td>87.313917</td>\n",
       "    </tr>\n",
       "    <tr>\n",
       "      <th>13</th>\n",
       "      <td>7131</td>\n",
       "      <td>360979</td>\n",
       "      <td>11</td>\n",
       "      <td>489295.0</td>\n",
       "      <td>13</td>\n",
       "      <td>128316.0</td>\n",
       "      <td>35.546666</td>\n",
       "    </tr>\n",
       "    <tr>\n",
       "      <th>10</th>\n",
       "      <td>7125</td>\n",
       "      <td>427334</td>\n",
       "      <td>12</td>\n",
       "      <td>554264.0</td>\n",
       "      <td>16</td>\n",
       "      <td>126930.0</td>\n",
       "      <td>29.702762</td>\n",
       "    </tr>\n",
       "    <tr>\n",
       "      <th>6</th>\n",
       "      <td>7128</td>\n",
       "      <td>481214</td>\n",
       "      <td>11</td>\n",
       "      <td>579099.0</td>\n",
       "      <td>18</td>\n",
       "      <td>97885.0</td>\n",
       "      <td>20.341262</td>\n",
       "    </tr>\n",
       "    <tr>\n",
       "      <th>16</th>\n",
       "      <td>7155</td>\n",
       "      <td>314504</td>\n",
       "      <td>10</td>\n",
       "      <td>410269.0</td>\n",
       "      <td>11</td>\n",
       "      <td>95765.0</td>\n",
       "      <td>30.449533</td>\n",
       "    </tr>\n",
       "    <tr>\n",
       "      <th>11</th>\n",
       "      <td>7110</td>\n",
       "      <td>423763</td>\n",
       "      <td>13</td>\n",
       "      <td>473515.0</td>\n",
       "      <td>17</td>\n",
       "      <td>49752.0</td>\n",
       "      <td>11.740525</td>\n",
       "    </tr>\n",
       "    <tr>\n",
       "      <th>14</th>\n",
       "      <td>7114</td>\n",
       "      <td>342189</td>\n",
       "      <td>10</td>\n",
       "      <td>353034.0</td>\n",
       "      <td>11</td>\n",
       "      <td>10845.0</td>\n",
       "      <td>3.169301</td>\n",
       "    </tr>\n",
       "    <tr>\n",
       "      <th>7</th>\n",
       "      <td>7129</td>\n",
       "      <td>478618</td>\n",
       "      <td>12</td>\n",
       "      <td>400437.0</td>\n",
       "      <td>13</td>\n",
       "      <td>-78181.0</td>\n",
       "      <td>-16.334739</td>\n",
       "    </tr>\n",
       "    <tr>\n",
       "      <th>5</th>\n",
       "      <td>7111</td>\n",
       "      <td>495917</td>\n",
       "      <td>11</td>\n",
       "      <td>339057.0</td>\n",
       "      <td>13</td>\n",
       "      <td>-156860.0</td>\n",
       "      <td>-31.630293</td>\n",
       "    </tr>\n",
       "    <tr>\n",
       "      <th>0</th>\n",
       "      <td>7167</td>\n",
       "      <td>1394776</td>\n",
       "      <td>46</td>\n",
       "      <td>712610.0</td>\n",
       "      <td>23</td>\n",
       "      <td>-682166.0</td>\n",
       "      <td>-48.908642</td>\n",
       "    </tr>\n",
       "  </tbody>\n",
       "</table>\n",
       "</div>"
      ],
      "text/plain": [
       "    Client ID  Delivery amount_2019  Date of delivery_2019  \\\n",
       "18       7158                218986                      6   \n",
       "9        7134                454521                     13   \n",
       "4        7161                500806                     13   \n",
       "19       7140                 50208                      2   \n",
       "20       7135                 41474                      2   \n",
       "2        7126                609863                     14   \n",
       "3        7118                594290                     13   \n",
       "1        7136                879094                     24   \n",
       "17       7139                281316                     11   \n",
       "15       7138                323719                     11   \n",
       "8        7121                469834                     14   \n",
       "12       7146                367040                     12   \n",
       "13       7131                360979                     11   \n",
       "10       7125                427334                     12   \n",
       "6        7128                481214                     11   \n",
       "16       7155                314504                     10   \n",
       "11       7110                423763                     13   \n",
       "14       7114                342189                     10   \n",
       "7        7129                478618                     12   \n",
       "5        7111                495917                     11   \n",
       "0        7167               1394776                     46   \n",
       "\n",
       "    Delivery amount_2020  Date of delivery_2020  Delivery amount increase  \\\n",
       "18             2035274.0                     66                 1816288.0   \n",
       "9              1479166.0                     41                 1024645.0   \n",
       "4              1421475.0                     39                  920669.0   \n",
       "19              737001.0                     17                  686793.0   \n",
       "20              566693.0                     17                  525219.0   \n",
       "2              1105069.0                     32                  495206.0   \n",
       "3              1082123.0                     31                  487833.0   \n",
       "1              1296929.0                     41                  417835.0   \n",
       "17              652626.0                     17                  371310.0   \n",
       "15              673481.0                     26                  349762.0   \n",
       "8               797343.0                     23                  327509.0   \n",
       "12              687517.0                     22                  320477.0   \n",
       "13              489295.0                     13                  128316.0   \n",
       "10              554264.0                     16                  126930.0   \n",
       "6               579099.0                     18                   97885.0   \n",
       "16              410269.0                     11                   95765.0   \n",
       "11              473515.0                     17                   49752.0   \n",
       "14              353034.0                     11                   10845.0   \n",
       "7               400437.0                     13                  -78181.0   \n",
       "5               339057.0                     13                 -156860.0   \n",
       "0               712610.0                     23                 -682166.0   \n",
       "\n",
       "    Growth of delivery amount %  \n",
       "18                   829.408273  \n",
       "9                    225.434028  \n",
       "4                    183.837454  \n",
       "19                  1367.895554  \n",
       "20                  1266.381347  \n",
       "2                     81.199548  \n",
       "3                     82.086692  \n",
       "1                     47.530184  \n",
       "17                   131.990360  \n",
       "15                   108.044940  \n",
       "8                     69.707386  \n",
       "12                    87.313917  \n",
       "13                    35.546666  \n",
       "10                    29.702762  \n",
       "6                     20.341262  \n",
       "16                    30.449533  \n",
       "11                    11.740525  \n",
       "14                     3.169301  \n",
       "7                    -16.334739  \n",
       "5                    -31.630293  \n",
       "0                    -48.908642  "
      ]
     },
     "execution_count": 46,
     "metadata": {},
     "output_type": "execute_result"
    }
   ],
   "source": [
    "sales_to_shops.sort_values(by=['Delivery amount increase'], ascending=False)"
   ]
  },
  {
   "cell_type": "markdown",
   "id": "6694f579",
   "metadata": {
    "papermill": {
     "duration": 0.034147,
     "end_time": "2023-11-30T17:57:45.693220",
     "exception": false,
     "start_time": "2023-11-30T17:57:45.659073",
     "status": "completed"
    },
    "tags": []
   },
   "source": [
    "The last 2 columns indicate the delivery amount increase for evey customer from 2019 to 2020."
   ]
  },
  {
   "cell_type": "markdown",
   "id": "c7d9787e",
   "metadata": {
    "papermill": {
     "duration": 0.032632,
     "end_time": "2023-11-30T17:57:45.761160",
     "exception": false,
     "start_time": "2023-11-30T17:57:45.728528",
     "status": "completed"
    },
    "tags": []
   },
   "source": [
    "<hr>\n",
    "<h1 style=\"\n",
    "          text-align: center;\n",
    "          border-radius:5px; \n",
    "          background-color: #37373b; \n",
    "          color:#f5f2e9; \n",
    "          padding:15px;\n",
    "          letter-spacing: 2px; \n",
    "          font-family: 'JetBrains Mono';\n",
    "          font-size:38px;\n",
    "          border-left: 3px solid #f2bd1d; \n",
    "          border-bottom: 3px outset #f2bd1d;\n",
    "          margin-bottom: 10px;\"> RFM Analysis\n",
    "</h1>"
   ]
  },
  {
   "cell_type": "markdown",
   "id": "5696d136",
   "metadata": {
    "papermill": {
     "duration": 0.033365,
     "end_time": "2023-11-30T17:57:45.829043",
     "exception": false,
     "start_time": "2023-11-30T17:57:45.795678",
     "status": "completed"
    },
    "tags": []
   },
   "source": [
    "Through **RFM** analysis we can create a profile for each client based on:<br>\n",
    "* **R**ecency: how recently he purchased<br>\n",
    "* **F**requency: how often he purchases<br>\n",
    "* **M**onetery value: how much he purchases"
   ]
  },
  {
   "cell_type": "code",
   "execution_count": 47,
   "id": "c514f21f",
   "metadata": {
    "execution": {
     "iopub.execute_input": "2023-11-30T17:57:45.909472Z",
     "iopub.status.busy": "2023-11-30T17:57:45.907828Z",
     "iopub.status.idle": "2023-11-30T17:57:45.915258Z",
     "shell.execute_reply": "2023-11-30T17:57:45.914343Z"
    },
    "papermill": {
     "duration": 0.048406,
     "end_time": "2023-11-30T17:57:45.917565",
     "exception": false,
     "start_time": "2023-11-30T17:57:45.869159",
     "status": "completed"
    },
    "tags": []
   },
   "outputs": [],
   "source": [
    "# Join the two data sets\n",
    "data = pd.concat([data_2019, data_2020])"
   ]
  },
  {
   "cell_type": "code",
   "execution_count": 48,
   "id": "bc69b212",
   "metadata": {
    "execution": {
     "iopub.execute_input": "2023-11-30T17:57:45.990334Z",
     "iopub.status.busy": "2023-11-30T17:57:45.989339Z",
     "iopub.status.idle": "2023-11-30T17:57:46.003328Z",
     "shell.execute_reply": "2023-11-30T17:57:46.001215Z"
    },
    "papermill": {
     "duration": 0.055505,
     "end_time": "2023-11-30T17:57:46.007015",
     "exception": false,
     "start_time": "2023-11-30T17:57:45.951510",
     "status": "completed"
    },
    "tags": []
   },
   "outputs": [],
   "source": [
    "# date of last delivery\n",
    "last_delivery = data.groupby('Client ID', as_index=False).agg({'Date of delivery':'max'})"
   ]
  },
  {
   "cell_type": "code",
   "execution_count": 49,
   "id": "652d0712",
   "metadata": {
    "execution": {
     "iopub.execute_input": "2023-11-30T17:57:46.079270Z",
     "iopub.status.busy": "2023-11-30T17:57:46.078872Z",
     "iopub.status.idle": "2023-11-30T17:57:46.100304Z",
     "shell.execute_reply": "2023-11-30T17:57:46.099156Z"
    },
    "papermill": {
     "duration": 0.06079,
     "end_time": "2023-11-30T17:57:46.102873",
     "exception": false,
     "start_time": "2023-11-30T17:57:46.042083",
     "status": "completed"
    },
    "tags": []
   },
   "outputs": [
    {
     "data": {
      "text/html": [
       "<div>\n",
       "<style scoped>\n",
       "    .dataframe tbody tr th:only-of-type {\n",
       "        vertical-align: middle;\n",
       "    }\n",
       "\n",
       "    .dataframe tbody tr th {\n",
       "        vertical-align: top;\n",
       "    }\n",
       "\n",
       "    .dataframe thead th {\n",
       "        text-align: right;\n",
       "    }\n",
       "</style>\n",
       "<table border=\"1\" class=\"dataframe\">\n",
       "  <thead>\n",
       "    <tr style=\"text-align: right;\">\n",
       "      <th></th>\n",
       "      <th>Client ID</th>\n",
       "      <th>Delivery amount_2019</th>\n",
       "      <th>Date of delivery_2019</th>\n",
       "      <th>Delivery amount_2020</th>\n",
       "      <th>Date of delivery_2020</th>\n",
       "      <th>Delivery amount increase</th>\n",
       "      <th>Growth of delivery amount %</th>\n",
       "      <th>Date of delivery</th>\n",
       "    </tr>\n",
       "  </thead>\n",
       "  <tbody>\n",
       "    <tr>\n",
       "      <th>0</th>\n",
       "      <td>7167</td>\n",
       "      <td>1394776</td>\n",
       "      <td>46</td>\n",
       "      <td>712610.0</td>\n",
       "      <td>23</td>\n",
       "      <td>-682166.0</td>\n",
       "      <td>-48.908642</td>\n",
       "      <td>2020-12-16</td>\n",
       "    </tr>\n",
       "    <tr>\n",
       "      <th>1</th>\n",
       "      <td>7136</td>\n",
       "      <td>879094</td>\n",
       "      <td>24</td>\n",
       "      <td>1296929.0</td>\n",
       "      <td>41</td>\n",
       "      <td>417835.0</td>\n",
       "      <td>47.530184</td>\n",
       "      <td>2020-10-15</td>\n",
       "    </tr>\n",
       "    <tr>\n",
       "      <th>2</th>\n",
       "      <td>7126</td>\n",
       "      <td>609863</td>\n",
       "      <td>14</td>\n",
       "      <td>1105069.0</td>\n",
       "      <td>32</td>\n",
       "      <td>495206.0</td>\n",
       "      <td>81.199548</td>\n",
       "      <td>2020-12-24</td>\n",
       "    </tr>\n",
       "    <tr>\n",
       "      <th>3</th>\n",
       "      <td>7118</td>\n",
       "      <td>594290</td>\n",
       "      <td>13</td>\n",
       "      <td>1082123.0</td>\n",
       "      <td>31</td>\n",
       "      <td>487833.0</td>\n",
       "      <td>82.086692</td>\n",
       "      <td>2020-10-27</td>\n",
       "    </tr>\n",
       "    <tr>\n",
       "      <th>4</th>\n",
       "      <td>7161</td>\n",
       "      <td>500806</td>\n",
       "      <td>13</td>\n",
       "      <td>1421475.0</td>\n",
       "      <td>39</td>\n",
       "      <td>920669.0</td>\n",
       "      <td>183.837454</td>\n",
       "      <td>2020-10-22</td>\n",
       "    </tr>\n",
       "  </tbody>\n",
       "</table>\n",
       "</div>"
      ],
      "text/plain": [
       "   Client ID  Delivery amount_2019  Date of delivery_2019  \\\n",
       "0       7167               1394776                     46   \n",
       "1       7136                879094                     24   \n",
       "2       7126                609863                     14   \n",
       "3       7118                594290                     13   \n",
       "4       7161                500806                     13   \n",
       "\n",
       "   Delivery amount_2020  Date of delivery_2020  Delivery amount increase  \\\n",
       "0              712610.0                     23                 -682166.0   \n",
       "1             1296929.0                     41                  417835.0   \n",
       "2             1105069.0                     32                  495206.0   \n",
       "3             1082123.0                     31                  487833.0   \n",
       "4             1421475.0                     39                  920669.0   \n",
       "\n",
       "   Growth of delivery amount % Date of delivery  \n",
       "0                   -48.908642       2020-12-16  \n",
       "1                    47.530184       2020-10-15  \n",
       "2                    81.199548       2020-12-24  \n",
       "3                    82.086692       2020-10-27  \n",
       "4                   183.837454       2020-10-22  "
      ]
     },
     "execution_count": 49,
     "metadata": {},
     "output_type": "execute_result"
    }
   ],
   "source": [
    "# Adding last_delivery to data\n",
    "RFM = sales_to_shops.merge(last_delivery, left_on='Client ID', right_on='Client ID')\n",
    "RFM.head()"
   ]
  },
  {
   "cell_type": "code",
   "execution_count": 50,
   "id": "94a74a9d",
   "metadata": {
    "execution": {
     "iopub.execute_input": "2023-11-30T17:57:46.182112Z",
     "iopub.status.busy": "2023-11-30T17:57:46.181230Z",
     "iopub.status.idle": "2023-11-30T17:57:46.199764Z",
     "shell.execute_reply": "2023-11-30T17:57:46.198064Z"
    },
    "papermill": {
     "duration": 0.057881,
     "end_time": "2023-11-30T17:57:46.202454",
     "exception": false,
     "start_time": "2023-11-30T17:57:46.144573",
     "status": "completed"
    },
    "tags": []
   },
   "outputs": [
    {
     "data": {
      "text/html": [
       "<div>\n",
       "<style scoped>\n",
       "    .dataframe tbody tr th:only-of-type {\n",
       "        vertical-align: middle;\n",
       "    }\n",
       "\n",
       "    .dataframe tbody tr th {\n",
       "        vertical-align: top;\n",
       "    }\n",
       "\n",
       "    .dataframe thead th {\n",
       "        text-align: right;\n",
       "    }\n",
       "</style>\n",
       "<table border=\"1\" class=\"dataframe\">\n",
       "  <thead>\n",
       "    <tr style=\"text-align: right;\">\n",
       "      <th></th>\n",
       "      <th>Client ID</th>\n",
       "      <th>Delivery amount_2019</th>\n",
       "      <th>Deliveries in 2019</th>\n",
       "      <th>Delivery amount_2020</th>\n",
       "      <th>Deliveries in 2020</th>\n",
       "      <th>Delivery amount increase</th>\n",
       "      <th>Growth of delivery amount %</th>\n",
       "      <th>Last Delivery Date</th>\n",
       "    </tr>\n",
       "  </thead>\n",
       "  <tbody>\n",
       "    <tr>\n",
       "      <th>0</th>\n",
       "      <td>7167</td>\n",
       "      <td>1394776</td>\n",
       "      <td>46</td>\n",
       "      <td>712610.0</td>\n",
       "      <td>23</td>\n",
       "      <td>-682166.0</td>\n",
       "      <td>-48.908642</td>\n",
       "      <td>2020-12-16</td>\n",
       "    </tr>\n",
       "    <tr>\n",
       "      <th>1</th>\n",
       "      <td>7136</td>\n",
       "      <td>879094</td>\n",
       "      <td>24</td>\n",
       "      <td>1296929.0</td>\n",
       "      <td>41</td>\n",
       "      <td>417835.0</td>\n",
       "      <td>47.530184</td>\n",
       "      <td>2020-10-15</td>\n",
       "    </tr>\n",
       "    <tr>\n",
       "      <th>2</th>\n",
       "      <td>7126</td>\n",
       "      <td>609863</td>\n",
       "      <td>14</td>\n",
       "      <td>1105069.0</td>\n",
       "      <td>32</td>\n",
       "      <td>495206.0</td>\n",
       "      <td>81.199548</td>\n",
       "      <td>2020-12-24</td>\n",
       "    </tr>\n",
       "    <tr>\n",
       "      <th>3</th>\n",
       "      <td>7118</td>\n",
       "      <td>594290</td>\n",
       "      <td>13</td>\n",
       "      <td>1082123.0</td>\n",
       "      <td>31</td>\n",
       "      <td>487833.0</td>\n",
       "      <td>82.086692</td>\n",
       "      <td>2020-10-27</td>\n",
       "    </tr>\n",
       "    <tr>\n",
       "      <th>4</th>\n",
       "      <td>7161</td>\n",
       "      <td>500806</td>\n",
       "      <td>13</td>\n",
       "      <td>1421475.0</td>\n",
       "      <td>39</td>\n",
       "      <td>920669.0</td>\n",
       "      <td>183.837454</td>\n",
       "      <td>2020-10-22</td>\n",
       "    </tr>\n",
       "  </tbody>\n",
       "</table>\n",
       "</div>"
      ],
      "text/plain": [
       "   Client ID  Delivery amount_2019  Deliveries in 2019  Delivery amount_2020  \\\n",
       "0       7167               1394776                  46              712610.0   \n",
       "1       7136                879094                  24             1296929.0   \n",
       "2       7126                609863                  14             1105069.0   \n",
       "3       7118                594290                  13             1082123.0   \n",
       "4       7161                500806                  13             1421475.0   \n",
       "\n",
       "   Deliveries in 2020  Delivery amount increase  Growth of delivery amount %  \\\n",
       "0                  23                 -682166.0                   -48.908642   \n",
       "1                  41                  417835.0                    47.530184   \n",
       "2                  32                  495206.0                    81.199548   \n",
       "3                  31                  487833.0                    82.086692   \n",
       "4                  39                  920669.0                   183.837454   \n",
       "\n",
       "  Last Delivery Date  \n",
       "0         2020-12-16  \n",
       "1         2020-10-15  \n",
       "2         2020-12-24  \n",
       "3         2020-10-27  \n",
       "4         2020-10-22  "
      ]
     },
     "execution_count": 50,
     "metadata": {},
     "output_type": "execute_result"
    }
   ],
   "source": [
    "#Rename the columns to better match the stored values\n",
    "RFM = RFM.rename(columns={'Date of delivery': 'Last Delivery Date', \\\n",
    "                          'Date of delivery_2019' : 'Deliveries in 2019',\\\n",
    "                          'Date of delivery_2020' : 'Deliveries in 2020'})\n",
    "RFM.head()"
   ]
  },
  {
   "cell_type": "markdown",
   "id": "717ee3b9",
   "metadata": {
    "papermill": {
     "duration": 0.034247,
     "end_time": "2023-11-30T17:57:46.270276",
     "exception": false,
     "start_time": "2023-11-30T17:57:46.236029",
     "status": "completed"
    },
    "tags": []
   },
   "source": [
    "<hr>\n",
    "<h1 style=\"\n",
    "          text-align: center;\n",
    "           \">Monetery"
   ]
  },
  {
   "cell_type": "code",
   "execution_count": 51,
   "id": "cdf28d7a",
   "metadata": {
    "execution": {
     "iopub.execute_input": "2023-11-30T17:57:46.356281Z",
     "iopub.status.busy": "2023-11-30T17:57:46.355480Z",
     "iopub.status.idle": "2023-11-30T17:57:46.363156Z",
     "shell.execute_reply": "2023-11-30T17:57:46.361615Z"
    },
    "papermill": {
     "duration": 0.059511,
     "end_time": "2023-11-30T17:57:46.368101",
     "exception": false,
     "start_time": "2023-11-30T17:57:46.308590",
     "status": "completed"
    },
    "tags": []
   },
   "outputs": [],
   "source": [
    "# Monetery\n",
    "RFM['Delivery amount'] = RFM['Delivery amount_2019'] + RFM['Delivery amount_2020']"
   ]
  },
  {
   "cell_type": "markdown",
   "id": "123663b0",
   "metadata": {
    "papermill": {
     "duration": 0.033943,
     "end_time": "2023-11-30T17:57:46.437620",
     "exception": false,
     "start_time": "2023-11-30T17:57:46.403677",
     "status": "completed"
    },
    "tags": []
   },
   "source": [
    "<hr>\n",
    "<h1 style=\"\n",
    "          text-align: center;\n",
    "           \">Frequency"
   ]
  },
  {
   "cell_type": "code",
   "execution_count": 52,
   "id": "98a5bbaf",
   "metadata": {
    "execution": {
     "iopub.execute_input": "2023-11-30T17:57:46.511696Z",
     "iopub.status.busy": "2023-11-30T17:57:46.511202Z",
     "iopub.status.idle": "2023-11-30T17:57:46.518193Z",
     "shell.execute_reply": "2023-11-30T17:57:46.516663Z"
    },
    "papermill": {
     "duration": 0.048392,
     "end_time": "2023-11-30T17:57:46.520702",
     "exception": false,
     "start_time": "2023-11-30T17:57:46.472310",
     "status": "completed"
    },
    "tags": []
   },
   "outputs": [],
   "source": [
    "# Frequency\n",
    "RFM['Frequency of deliveries'] = RFM['Deliveries in 2019'] + RFM['Deliveries in 2020']"
   ]
  },
  {
   "cell_type": "code",
   "execution_count": 53,
   "id": "fc57c329",
   "metadata": {
    "execution": {
     "iopub.execute_input": "2023-11-30T17:57:46.593043Z",
     "iopub.status.busy": "2023-11-30T17:57:46.592590Z",
     "iopub.status.idle": "2023-11-30T17:57:46.598946Z",
     "shell.execute_reply": "2023-11-30T17:57:46.597981Z"
    },
    "papermill": {
     "duration": 0.044997,
     "end_time": "2023-11-30T17:57:46.601429",
     "exception": false,
     "start_time": "2023-11-30T17:57:46.556432",
     "status": "completed"
    },
    "tags": []
   },
   "outputs": [],
   "source": [
    "# Removing unnecessary columns\n",
    "RFM = RFM.drop(['Delivery amount_2019', 'Delivery amount_2020', 'Deliveries in 2019', 'Deliveries in 2020'], axis=1)"
   ]
  },
  {
   "cell_type": "markdown",
   "id": "7f4946a7",
   "metadata": {
    "papermill": {
     "duration": 0.033158,
     "end_time": "2023-11-30T17:57:46.667068",
     "exception": false,
     "start_time": "2023-11-30T17:57:46.633910",
     "status": "completed"
    },
    "tags": []
   },
   "source": [
    "<hr>\n",
    "<h1 style=\"\n",
    "          text-align: center;\n",
    "           \">Recency"
   ]
  },
  {
   "cell_type": "code",
   "execution_count": 54,
   "id": "1f600bdb",
   "metadata": {
    "execution": {
     "iopub.execute_input": "2023-11-30T17:57:46.735482Z",
     "iopub.status.busy": "2023-11-30T17:57:46.734632Z",
     "iopub.status.idle": "2023-11-30T17:57:46.742740Z",
     "shell.execute_reply": "2023-11-30T17:57:46.741547Z"
    },
    "papermill": {
     "duration": 0.045699,
     "end_time": "2023-11-30T17:57:46.745527",
     "exception": false,
     "start_time": "2023-11-30T17:57:46.699828",
     "status": "completed"
    },
    "tags": []
   },
   "outputs": [],
   "source": [
    "# Setting current date\n",
    "RFM['Current date'] = '2021-01-01'\n",
    "# Adding to dataframe in date format\n",
    "RFM['Current date']=pd.to_datetime(RFM['Current date'], format='%Y-%m-%d')"
   ]
  },
  {
   "cell_type": "code",
   "execution_count": 55,
   "id": "00af5111",
   "metadata": {
    "execution": {
     "iopub.execute_input": "2023-11-30T17:57:46.813508Z",
     "iopub.status.busy": "2023-11-30T17:57:46.813050Z",
     "iopub.status.idle": "2023-11-30T17:57:46.820223Z",
     "shell.execute_reply": "2023-11-30T17:57:46.818596Z"
    },
    "papermill": {
     "duration": 0.044338,
     "end_time": "2023-11-30T17:57:46.822681",
     "exception": false,
     "start_time": "2023-11-30T17:57:46.778343",
     "status": "completed"
    },
    "tags": []
   },
   "outputs": [],
   "source": [
    "# Recency\n",
    "RFM['Late Date'] = RFM['Current date'] - RFM['Last Delivery Date']"
   ]
  },
  {
   "cell_type": "code",
   "execution_count": 56,
   "id": "4c51fc70",
   "metadata": {
    "execution": {
     "iopub.execute_input": "2023-11-30T17:57:46.890338Z",
     "iopub.status.busy": "2023-11-30T17:57:46.889745Z",
     "iopub.status.idle": "2023-11-30T17:57:46.897464Z",
     "shell.execute_reply": "2023-11-30T17:57:46.896029Z"
    },
    "papermill": {
     "duration": 0.044787,
     "end_time": "2023-11-30T17:57:46.899708",
     "exception": false,
     "start_time": "2023-11-30T17:57:46.854921",
     "status": "completed"
    },
    "tags": []
   },
   "outputs": [],
   "source": [
    "# Removing unnecessary columns\n",
    "RFM_analisys = RFM[['Client ID', 'Delivery amount increase', 'Growth of delivery amount %', \\\n",
    "                    'Late Date', 'Frequency of deliveries', 'Delivery amount']]"
   ]
  },
  {
   "cell_type": "code",
   "execution_count": 57,
   "id": "632a1ff2",
   "metadata": {
    "execution": {
     "iopub.execute_input": "2023-11-30T17:57:46.968304Z",
     "iopub.status.busy": "2023-11-30T17:57:46.967855Z",
     "iopub.status.idle": "2023-11-30T17:57:47.006012Z",
     "shell.execute_reply": "2023-11-30T17:57:47.004337Z"
    },
    "papermill": {
     "duration": 0.077449,
     "end_time": "2023-11-30T17:57:47.009283",
     "exception": false,
     "start_time": "2023-11-30T17:57:46.931834",
     "status": "completed"
    },
    "tags": []
   },
   "outputs": [
    {
     "data": {
      "text/html": [
       "<div>\n",
       "<style scoped>\n",
       "    .dataframe tbody tr th:only-of-type {\n",
       "        vertical-align: middle;\n",
       "    }\n",
       "\n",
       "    .dataframe tbody tr th {\n",
       "        vertical-align: top;\n",
       "    }\n",
       "\n",
       "    .dataframe thead th {\n",
       "        text-align: right;\n",
       "    }\n",
       "</style>\n",
       "<table border=\"1\" class=\"dataframe\">\n",
       "  <thead>\n",
       "    <tr style=\"text-align: right;\">\n",
       "      <th></th>\n",
       "      <th>Client ID</th>\n",
       "      <th>Delivery amount increase</th>\n",
       "      <th>Growth of delivery amount %</th>\n",
       "      <th>Late Date</th>\n",
       "      <th>Frequency of deliveries</th>\n",
       "      <th>Delivery amount</th>\n",
       "    </tr>\n",
       "  </thead>\n",
       "  <tbody>\n",
       "    <tr>\n",
       "      <th>count</th>\n",
       "      <td>21.0</td>\n",
       "      <td>21.0</td>\n",
       "      <td>21.0</td>\n",
       "      <td>21</td>\n",
       "      <td>21.0</td>\n",
       "      <td>21.0</td>\n",
       "    </tr>\n",
       "    <tr>\n",
       "      <th>mean</th>\n",
       "      <td>7134.4</td>\n",
       "      <td>349325.3</td>\n",
       "      <td>215.0</td>\n",
       "      <td>72 days 18:17:08.571428571</td>\n",
       "      <td>37.0</td>\n",
       "      <td>1255082.0</td>\n",
       "    </tr>\n",
       "    <tr>\n",
       "      <th>std</th>\n",
       "      <td>16.1</td>\n",
       "      <td>502958.1</td>\n",
       "      <td>408.7</td>\n",
       "      <td>46 days 00:54:36.661713827</td>\n",
       "      <td>16.7</td>\n",
       "      <td>549186.9</td>\n",
       "    </tr>\n",
       "    <tr>\n",
       "      <th>min</th>\n",
       "      <td>7110.0</td>\n",
       "      <td>-682166.0</td>\n",
       "      <td>-48.9</td>\n",
       "      <td>8 days 00:00:00</td>\n",
       "      <td>19.0</td>\n",
       "      <td>608167.0</td>\n",
       "    </tr>\n",
       "    <tr>\n",
       "      <th>25%</th>\n",
       "      <td>7125.0</td>\n",
       "      <td>95765.0</td>\n",
       "      <td>20.3</td>\n",
       "      <td>29 days 00:00:00</td>\n",
       "      <td>24.0</td>\n",
       "      <td>850274.0</td>\n",
       "    </tr>\n",
       "    <tr>\n",
       "      <th>50%</th>\n",
       "      <td>7134.0</td>\n",
       "      <td>327509.0</td>\n",
       "      <td>69.7</td>\n",
       "      <td>72 days 00:00:00</td>\n",
       "      <td>30.0</td>\n",
       "      <td>997200.0</td>\n",
       "    </tr>\n",
       "    <tr>\n",
       "      <th>75%</th>\n",
       "      <td>7140.0</td>\n",
       "      <td>495206.0</td>\n",
       "      <td>132.0</td>\n",
       "      <td>107 days 00:00:00</td>\n",
       "      <td>46.0</td>\n",
       "      <td>1714932.0</td>\n",
       "    </tr>\n",
       "    <tr>\n",
       "      <th>max</th>\n",
       "      <td>7167.0</td>\n",
       "      <td>1816288.0</td>\n",
       "      <td>1367.9</td>\n",
       "      <td>149 days 00:00:00</td>\n",
       "      <td>72.0</td>\n",
       "      <td>2254260.0</td>\n",
       "    </tr>\n",
       "  </tbody>\n",
       "</table>\n",
       "</div>"
      ],
      "text/plain": [
       "       Client ID  Delivery amount increase  Growth of delivery amount %  \\\n",
       "count       21.0                      21.0                         21.0   \n",
       "mean      7134.4                  349325.3                        215.0   \n",
       "std         16.1                  502958.1                        408.7   \n",
       "min       7110.0                 -682166.0                        -48.9   \n",
       "25%       7125.0                   95765.0                         20.3   \n",
       "50%       7134.0                  327509.0                         69.7   \n",
       "75%       7140.0                  495206.0                        132.0   \n",
       "max       7167.0                 1816288.0                       1367.9   \n",
       "\n",
       "                        Late Date  Frequency of deliveries  Delivery amount  \n",
       "count                          21                     21.0             21.0  \n",
       "mean   72 days 18:17:08.571428571                     37.0        1255082.0  \n",
       "std    46 days 00:54:36.661713827                     16.7         549186.9  \n",
       "min               8 days 00:00:00                     19.0         608167.0  \n",
       "25%              29 days 00:00:00                     24.0         850274.0  \n",
       "50%              72 days 00:00:00                     30.0         997200.0  \n",
       "75%             107 days 00:00:00                     46.0        1714932.0  \n",
       "max             149 days 00:00:00                     72.0        2254260.0  "
      ]
     },
     "execution_count": 57,
     "metadata": {},
     "output_type": "execute_result"
    }
   ],
   "source": [
    "pd.set_option('display.float_format', lambda x: '%.1f' % x)\n",
    "RFM_analisys.describe()"
   ]
  },
  {
   "cell_type": "markdown",
   "id": "80896693",
   "metadata": {
    "papermill": {
     "duration": 0.034374,
     "end_time": "2023-11-30T17:57:47.080168",
     "exception": false,
     "start_time": "2023-11-30T17:57:47.045794",
     "status": "completed"
    },
    "tags": []
   },
   "source": [
    "We mean to use quantiles to get to our RFM analysis. We can use the 25%, 50% and 75% points to represent the range of values for the last three columns.<br>\n",
    "* **Recency(Late Date):** 29 [25%] - 72 [50%] - 107 [75%]<br>\n",
    "* **Frequency(of deliveries):** 24 [25%] - 30 [50%] - 46 [75%]<br>\n",
    "* **Monetery(Delivery amount):** 850274 [25%] - 997200 [50%] - 1714932 [75%]<br><br>\n",
    "Based on those quantiles we can create a profile for each client."
   ]
  },
  {
   "cell_type": "markdown",
   "id": "2b1358cf",
   "metadata": {
    "papermill": {
     "duration": 0.03569,
     "end_time": "2023-11-30T17:57:47.150640",
     "exception": false,
     "start_time": "2023-11-30T17:57:47.114950",
     "status": "completed"
    },
    "tags": []
   },
   "source": [
    "<hr>\n",
    "<h1 style=\"\n",
    "          text-align: center;\n",
    "           \">Categorization 1, 2, 3"
   ]
  },
  {
   "cell_type": "code",
   "execution_count": 58,
   "id": "c90768c4",
   "metadata": {
    "execution": {
     "iopub.execute_input": "2023-11-30T17:57:47.226306Z",
     "iopub.status.busy": "2023-11-30T17:57:47.224908Z",
     "iopub.status.idle": "2023-11-30T17:57:47.231768Z",
     "shell.execute_reply": "2023-11-30T17:57:47.230845Z"
    },
    "papermill": {
     "duration": 0.046635,
     "end_time": "2023-11-30T17:57:47.234132",
     "exception": false,
     "start_time": "2023-11-30T17:57:47.187497",
     "status": "completed"
    },
    "tags": []
   },
   "outputs": [],
   "source": [
    "RFM_analisys['Late Date'] = RFM_analisys['Late Date'].dt.days"
   ]
  },
  {
   "cell_type": "code",
   "execution_count": 59,
   "id": "7eaa3a2e",
   "metadata": {
    "execution": {
     "iopub.execute_input": "2023-11-30T17:57:47.308323Z",
     "iopub.status.busy": "2023-11-30T17:57:47.306837Z",
     "iopub.status.idle": "2023-11-30T17:57:47.314905Z",
     "shell.execute_reply": "2023-11-30T17:57:47.313953Z"
    },
    "papermill": {
     "duration": 0.046589,
     "end_time": "2023-11-30T17:57:47.316996",
     "exception": false,
     "start_time": "2023-11-30T17:57:47.270407",
     "status": "completed"
    },
    "tags": []
   },
   "outputs": [],
   "source": [
    "# Recency\n",
    "\n",
    "RFM_analisys['Recency'] = RFM_analisys['Late Date']\\\n",
    "        .apply(lambda x: 3 if x <= 29 else (2 if 29 < x <=72 else 1))"
   ]
  },
  {
   "cell_type": "code",
   "execution_count": 60,
   "id": "baf3b6bc",
   "metadata": {
    "execution": {
     "iopub.execute_input": "2023-11-30T17:57:47.385919Z",
     "iopub.status.busy": "2023-11-30T17:57:47.385097Z",
     "iopub.status.idle": "2023-11-30T17:57:47.391708Z",
     "shell.execute_reply": "2023-11-30T17:57:47.390625Z"
    },
    "papermill": {
     "duration": 0.0449,
     "end_time": "2023-11-30T17:57:47.394184",
     "exception": false,
     "start_time": "2023-11-30T17:57:47.349284",
     "status": "completed"
    },
    "tags": []
   },
   "outputs": [],
   "source": [
    "# Frequency\n",
    "\n",
    "RFM_analisys['Frequency'] = RFM_analisys['Frequency of deliveries']\\\n",
    "        .apply(lambda x: 3 if x <= 46 else (2 if 30 <= x <=46 else 1))"
   ]
  },
  {
   "cell_type": "code",
   "execution_count": 61,
   "id": "51f82cad",
   "metadata": {
    "execution": {
     "iopub.execute_input": "2023-11-30T17:57:47.463247Z",
     "iopub.status.busy": "2023-11-30T17:57:47.461835Z",
     "iopub.status.idle": "2023-11-30T17:57:47.470132Z",
     "shell.execute_reply": "2023-11-30T17:57:47.468977Z"
    },
    "papermill": {
     "duration": 0.046072,
     "end_time": "2023-11-30T17:57:47.473237",
     "exception": false,
     "start_time": "2023-11-30T17:57:47.427165",
     "status": "completed"
    },
    "tags": []
   },
   "outputs": [],
   "source": [
    "# Monetery\n",
    "\n",
    "RFM_analisys['Monetary'] = RFM_analisys['Delivery amount'].\\\n",
    "        apply(lambda x: 3 if x >= 1714932 else (2 if 997200 <= x <1714932 else 1))"
   ]
  },
  {
   "cell_type": "code",
   "execution_count": 62,
   "id": "1427e39d",
   "metadata": {
    "execution": {
     "iopub.execute_input": "2023-11-30T17:57:47.545258Z",
     "iopub.status.busy": "2023-11-30T17:57:47.544771Z",
     "iopub.status.idle": "2023-11-30T17:57:47.560642Z",
     "shell.execute_reply": "2023-11-30T17:57:47.559756Z"
    },
    "papermill": {
     "duration": 0.05605,
     "end_time": "2023-11-30T17:57:47.564756",
     "exception": false,
     "start_time": "2023-11-30T17:57:47.508706",
     "status": "completed"
    },
    "tags": []
   },
   "outputs": [
    {
     "data": {
      "text/html": [
       "<div>\n",
       "<style scoped>\n",
       "    .dataframe tbody tr th:only-of-type {\n",
       "        vertical-align: middle;\n",
       "    }\n",
       "\n",
       "    .dataframe tbody tr th {\n",
       "        vertical-align: top;\n",
       "    }\n",
       "\n",
       "    .dataframe thead th {\n",
       "        text-align: right;\n",
       "    }\n",
       "</style>\n",
       "<table border=\"1\" class=\"dataframe\">\n",
       "  <thead>\n",
       "    <tr style=\"text-align: right;\">\n",
       "      <th></th>\n",
       "      <th>Client ID</th>\n",
       "      <th>Delivery amount increase</th>\n",
       "      <th>Growth of delivery amount %</th>\n",
       "      <th>Recency</th>\n",
       "      <th>Frequency</th>\n",
       "      <th>Monetary</th>\n",
       "    </tr>\n",
       "  </thead>\n",
       "  <tbody>\n",
       "    <tr>\n",
       "      <th>0</th>\n",
       "      <td>7167</td>\n",
       "      <td>-682166.0</td>\n",
       "      <td>-48.9</td>\n",
       "      <td>3</td>\n",
       "      <td>1</td>\n",
       "      <td>3</td>\n",
       "    </tr>\n",
       "    <tr>\n",
       "      <th>1</th>\n",
       "      <td>7136</td>\n",
       "      <td>417835.0</td>\n",
       "      <td>47.5</td>\n",
       "      <td>1</td>\n",
       "      <td>1</td>\n",
       "      <td>3</td>\n",
       "    </tr>\n",
       "    <tr>\n",
       "      <th>2</th>\n",
       "      <td>7126</td>\n",
       "      <td>495206.0</td>\n",
       "      <td>81.2</td>\n",
       "      <td>3</td>\n",
       "      <td>3</td>\n",
       "      <td>3</td>\n",
       "    </tr>\n",
       "    <tr>\n",
       "      <th>3</th>\n",
       "      <td>7118</td>\n",
       "      <td>487833.0</td>\n",
       "      <td>82.1</td>\n",
       "      <td>2</td>\n",
       "      <td>3</td>\n",
       "      <td>2</td>\n",
       "    </tr>\n",
       "    <tr>\n",
       "      <th>4</th>\n",
       "      <td>7161</td>\n",
       "      <td>920669.0</td>\n",
       "      <td>183.8</td>\n",
       "      <td>2</td>\n",
       "      <td>1</td>\n",
       "      <td>3</td>\n",
       "    </tr>\n",
       "    <tr>\n",
       "      <th>5</th>\n",
       "      <td>7111</td>\n",
       "      <td>-156860.0</td>\n",
       "      <td>-31.6</td>\n",
       "      <td>1</td>\n",
       "      <td>3</td>\n",
       "      <td>1</td>\n",
       "    </tr>\n",
       "    <tr>\n",
       "      <th>6</th>\n",
       "      <td>7128</td>\n",
       "      <td>97885.0</td>\n",
       "      <td>20.3</td>\n",
       "      <td>3</td>\n",
       "      <td>3</td>\n",
       "      <td>2</td>\n",
       "    </tr>\n",
       "    <tr>\n",
       "      <th>7</th>\n",
       "      <td>7129</td>\n",
       "      <td>-78181.0</td>\n",
       "      <td>-16.3</td>\n",
       "      <td>2</td>\n",
       "      <td>3</td>\n",
       "      <td>1</td>\n",
       "    </tr>\n",
       "    <tr>\n",
       "      <th>8</th>\n",
       "      <td>7121</td>\n",
       "      <td>327509.0</td>\n",
       "      <td>69.7</td>\n",
       "      <td>3</td>\n",
       "      <td>3</td>\n",
       "      <td>2</td>\n",
       "    </tr>\n",
       "    <tr>\n",
       "      <th>9</th>\n",
       "      <td>7134</td>\n",
       "      <td>1024645.0</td>\n",
       "      <td>225.4</td>\n",
       "      <td>3</td>\n",
       "      <td>1</td>\n",
       "      <td>3</td>\n",
       "    </tr>\n",
       "    <tr>\n",
       "      <th>10</th>\n",
       "      <td>7125</td>\n",
       "      <td>126930.0</td>\n",
       "      <td>29.7</td>\n",
       "      <td>1</td>\n",
       "      <td>3</td>\n",
       "      <td>1</td>\n",
       "    </tr>\n",
       "    <tr>\n",
       "      <th>11</th>\n",
       "      <td>7110</td>\n",
       "      <td>49752.0</td>\n",
       "      <td>11.7</td>\n",
       "      <td>3</td>\n",
       "      <td>3</td>\n",
       "      <td>1</td>\n",
       "    </tr>\n",
       "    <tr>\n",
       "      <th>12</th>\n",
       "      <td>7146</td>\n",
       "      <td>320477.0</td>\n",
       "      <td>87.3</td>\n",
       "      <td>1</td>\n",
       "      <td>3</td>\n",
       "      <td>2</td>\n",
       "    </tr>\n",
       "    <tr>\n",
       "      <th>13</th>\n",
       "      <td>7131</td>\n",
       "      <td>128316.0</td>\n",
       "      <td>35.5</td>\n",
       "      <td>1</td>\n",
       "      <td>3</td>\n",
       "      <td>1</td>\n",
       "    </tr>\n",
       "    <tr>\n",
       "      <th>14</th>\n",
       "      <td>7114</td>\n",
       "      <td>10845.0</td>\n",
       "      <td>3.2</td>\n",
       "      <td>1</td>\n",
       "      <td>3</td>\n",
       "      <td>1</td>\n",
       "    </tr>\n",
       "    <tr>\n",
       "      <th>15</th>\n",
       "      <td>7138</td>\n",
       "      <td>349762.0</td>\n",
       "      <td>108.0</td>\n",
       "      <td>2</td>\n",
       "      <td>3</td>\n",
       "      <td>2</td>\n",
       "    </tr>\n",
       "    <tr>\n",
       "      <th>16</th>\n",
       "      <td>7155</td>\n",
       "      <td>95765.0</td>\n",
       "      <td>30.4</td>\n",
       "      <td>1</td>\n",
       "      <td>3</td>\n",
       "      <td>1</td>\n",
       "    </tr>\n",
       "    <tr>\n",
       "      <th>17</th>\n",
       "      <td>7139</td>\n",
       "      <td>371310.0</td>\n",
       "      <td>132.0</td>\n",
       "      <td>1</td>\n",
       "      <td>3</td>\n",
       "      <td>1</td>\n",
       "    </tr>\n",
       "    <tr>\n",
       "      <th>18</th>\n",
       "      <td>7158</td>\n",
       "      <td>1816288.0</td>\n",
       "      <td>829.4</td>\n",
       "      <td>1</td>\n",
       "      <td>1</td>\n",
       "      <td>3</td>\n",
       "    </tr>\n",
       "    <tr>\n",
       "      <th>19</th>\n",
       "      <td>7140</td>\n",
       "      <td>686793.0</td>\n",
       "      <td>1367.9</td>\n",
       "      <td>2</td>\n",
       "      <td>3</td>\n",
       "      <td>1</td>\n",
       "    </tr>\n",
       "    <tr>\n",
       "      <th>20</th>\n",
       "      <td>7135</td>\n",
       "      <td>525219.0</td>\n",
       "      <td>1266.4</td>\n",
       "      <td>1</td>\n",
       "      <td>3</td>\n",
       "      <td>1</td>\n",
       "    </tr>\n",
       "  </tbody>\n",
       "</table>\n",
       "</div>"
      ],
      "text/plain": [
       "    Client ID  Delivery amount increase  Growth of delivery amount %  Recency  \\\n",
       "0        7167                 -682166.0                        -48.9        3   \n",
       "1        7136                  417835.0                         47.5        1   \n",
       "2        7126                  495206.0                         81.2        3   \n",
       "3        7118                  487833.0                         82.1        2   \n",
       "4        7161                  920669.0                        183.8        2   \n",
       "5        7111                 -156860.0                        -31.6        1   \n",
       "6        7128                   97885.0                         20.3        3   \n",
       "7        7129                  -78181.0                        -16.3        2   \n",
       "8        7121                  327509.0                         69.7        3   \n",
       "9        7134                 1024645.0                        225.4        3   \n",
       "10       7125                  126930.0                         29.7        1   \n",
       "11       7110                   49752.0                         11.7        3   \n",
       "12       7146                  320477.0                         87.3        1   \n",
       "13       7131                  128316.0                         35.5        1   \n",
       "14       7114                   10845.0                          3.2        1   \n",
       "15       7138                  349762.0                        108.0        2   \n",
       "16       7155                   95765.0                         30.4        1   \n",
       "17       7139                  371310.0                        132.0        1   \n",
       "18       7158                 1816288.0                        829.4        1   \n",
       "19       7140                  686793.0                       1367.9        2   \n",
       "20       7135                  525219.0                       1266.4        1   \n",
       "\n",
       "    Frequency  Monetary  \n",
       "0           1         3  \n",
       "1           1         3  \n",
       "2           3         3  \n",
       "3           3         2  \n",
       "4           1         3  \n",
       "5           3         1  \n",
       "6           3         2  \n",
       "7           3         1  \n",
       "8           3         2  \n",
       "9           1         3  \n",
       "10          3         1  \n",
       "11          3         1  \n",
       "12          3         2  \n",
       "13          3         1  \n",
       "14          3         1  \n",
       "15          3         2  \n",
       "16          3         1  \n",
       "17          3         1  \n",
       "18          1         3  \n",
       "19          3         1  \n",
       "20          3         1  "
      ]
     },
     "execution_count": 62,
     "metadata": {},
     "output_type": "execute_result"
    }
   ],
   "source": [
    "RFM_analisys = RFM_analisys[['Client ID', 'Delivery amount increase', \\\n",
    "                             'Growth of delivery amount %', 'Recency', 'Frequency', 'Monetary']]\n",
    "RFM_analisys"
   ]
  },
  {
   "cell_type": "markdown",
   "id": "e58387c6",
   "metadata": {
    "papermill": {
     "duration": 0.034869,
     "end_time": "2023-11-30T17:57:47.634284",
     "exception": false,
     "start_time": "2023-11-30T17:57:47.599415",
     "status": "completed"
    },
    "tags": []
   },
   "source": [
    "<hr>\n",
    "<h1 style=\"\n",
    "          text-align: center;\n",
    "           \">Client status"
   ]
  },
  {
   "cell_type": "markdown",
   "id": "aca4ab32",
   "metadata": {
    "papermill": {
     "duration": 0.032762,
     "end_time": "2023-11-30T17:57:47.702981",
     "exception": false,
     "start_time": "2023-11-30T17:57:47.670219",
     "status": "completed"
    },
    "tags": []
   },
   "source": [
    "However it would still be difficult for the manager to make a decision based on that data. Let us further profile the clients and visualize the result in a better manner.<br>\n",
    "\n",
    "* **lost**: R1—F1—M(1–3)\n",
    "* **loyal**: customers who have lost activity: R1—F(2–3)—M(1–3)\n",
    "* **sleeping**: R2-F(1-2)-M(1-3)\n",
    "* **loyal sleeping customers**: R2—F(3)—M(1–3)\n",
    "* **beginners**: R3-F1-M(1-3)\n",
    "* **developing**: R3-F2-M(1-3)\n",
    "* **regular customers**: R3-F3-M3\n",
    "<br><br>We can group the clients based on the features written above. "
   ]
  },
  {
   "cell_type": "code",
   "execution_count": 63,
   "id": "0f7392da",
   "metadata": {
    "execution": {
     "iopub.execute_input": "2023-11-30T17:57:47.776131Z",
     "iopub.status.busy": "2023-11-30T17:57:47.774362Z",
     "iopub.status.idle": "2023-11-30T17:57:47.803222Z",
     "shell.execute_reply": "2023-11-30T17:57:47.801571Z"
    },
    "papermill": {
     "duration": 0.069242,
     "end_time": "2023-11-30T17:57:47.806773",
     "exception": false,
     "start_time": "2023-11-30T17:57:47.737531",
     "status": "completed"
    },
    "tags": []
   },
   "outputs": [
    {
     "data": {
      "text/html": [
       "<div>\n",
       "<style scoped>\n",
       "    .dataframe tbody tr th:only-of-type {\n",
       "        vertical-align: middle;\n",
       "    }\n",
       "\n",
       "    .dataframe tbody tr th {\n",
       "        vertical-align: top;\n",
       "    }\n",
       "\n",
       "    .dataframe thead th {\n",
       "        text-align: right;\n",
       "    }\n",
       "</style>\n",
       "<table border=\"1\" class=\"dataframe\">\n",
       "  <thead>\n",
       "    <tr style=\"text-align: right;\">\n",
       "      <th></th>\n",
       "      <th>Loyalty</th>\n",
       "      <th>Client ID</th>\n",
       "      <th>Delivery amount increase</th>\n",
       "      <th>Growth of delivery amount %</th>\n",
       "    </tr>\n",
       "  </thead>\n",
       "  <tbody>\n",
       "    <tr>\n",
       "      <th>1</th>\n",
       "      <td>Lost</td>\n",
       "      <td>2</td>\n",
       "      <td>2234123.0</td>\n",
       "      <td>438.5</td>\n",
       "    </tr>\n",
       "    <tr>\n",
       "      <th>5</th>\n",
       "      <td>loyal sleeping customers</td>\n",
       "      <td>4</td>\n",
       "      <td>1446207.0</td>\n",
       "      <td>95.1</td>\n",
       "    </tr>\n",
       "    <tr>\n",
       "      <th>2</th>\n",
       "      <td>Loyal customers who have lost activity</td>\n",
       "      <td>8</td>\n",
       "      <td>1422002.0</td>\n",
       "      <td>33.0</td>\n",
       "    </tr>\n",
       "    <tr>\n",
       "      <th>3</th>\n",
       "      <td>Regular customers</td>\n",
       "      <td>4</td>\n",
       "      <td>970352.0</td>\n",
       "      <td>45.0</td>\n",
       "    </tr>\n",
       "    <tr>\n",
       "      <th>4</th>\n",
       "      <td>Sleeping</td>\n",
       "      <td>1</td>\n",
       "      <td>920669.0</td>\n",
       "      <td>183.8</td>\n",
       "    </tr>\n",
       "    <tr>\n",
       "      <th>0</th>\n",
       "      <td>Beginners</td>\n",
       "      <td>2</td>\n",
       "      <td>342479.0</td>\n",
       "      <td>88.3</td>\n",
       "    </tr>\n",
       "  </tbody>\n",
       "</table>\n",
       "</div>"
      ],
      "text/plain": [
       "                                  Loyalty  Client ID  \\\n",
       "1                                    Lost          2   \n",
       "5                loyal sleeping customers          4   \n",
       "2  Loyal customers who have lost activity          8   \n",
       "3                       Regular customers          4   \n",
       "4                                Sleeping          1   \n",
       "0                               Beginners          2   \n",
       "\n",
       "   Delivery amount increase  Growth of delivery amount %  \n",
       "1                 2234123.0                        438.5  \n",
       "5                 1446207.0                         95.1  \n",
       "2                 1422002.0                         33.0  \n",
       "3                  970352.0                         45.0  \n",
       "4                  920669.0                        183.8  \n",
       "0                  342479.0                         88.3  "
      ]
     },
     "execution_count": 63,
     "metadata": {},
     "output_type": "execute_result"
    }
   ],
   "source": [
    "# Conditions\n",
    "def RFM_loyalty(r, f, m):\n",
    "    temp = list()\n",
    "    for i in range(len(r)):\n",
    "        if r[i] == 1:\n",
    "            if f[i] == 1:\n",
    "                temp.append('Lost')\n",
    "            else:\n",
    "                temp.append('Loyal customers who have lost activity')\n",
    "        elif r[i] == 2:\n",
    "            if 1<=f[i]<=2:\n",
    "                temp.append('Sleeping')\n",
    "            else:\n",
    "                temp.append('loyal sleeping customers')\n",
    "        else:\n",
    "            if f[i] == 1:\n",
    "                temp.append('Beginners')\n",
    "            elif f[i] == 2:\n",
    "                temp.append('Developing')\n",
    "            else:\n",
    "                temp.append('Regular customers')\n",
    "    return temp\n",
    "\n",
    "\n",
    "# Creating Loyalty column\n",
    "RFM_analisys['Loyalty'] = RFM_loyalty(RFM_analisys.loc[:, 'Recency'], \\\n",
    "                                        RFM_analisys.loc[:, 'Frequency'], RFM_analisys.loc[:, 'Monetary'])\n",
    "\n",
    "# Adding purchase growth for each group\n",
    "RFM_analisys.groupby('Loyalty', as_index=False)\\\n",
    "    .agg({'Client ID':'count', 'Delivery amount increase': 'sum', 'Growth of delivery amount %': 'median'})\\\n",
    "    .sort_values(by='Delivery amount increase', ascending=False)"
   ]
  },
  {
   "cell_type": "code",
   "execution_count": 64,
   "id": "9c9ebc27",
   "metadata": {
    "execution": {
     "iopub.execute_input": "2023-11-30T17:57:47.882312Z",
     "iopub.status.busy": "2023-11-30T17:57:47.881479Z",
     "iopub.status.idle": "2023-11-30T17:57:48.217387Z",
     "shell.execute_reply": "2023-11-30T17:57:48.215692Z"
    },
    "papermill": {
     "duration": 0.376728,
     "end_time": "2023-11-30T17:57:48.220407",
     "exception": false,
     "start_time": "2023-11-30T17:57:47.843679",
     "status": "completed"
    },
    "tags": []
   },
   "outputs": [
    {
     "data": {
      "image/png": "[encoded data removed]",
      "text/plain": [
       "<Figure size 1000x600 with 1 Axes>"
      ]
     },
     "metadata": {},
     "output_type": "display_data"
    }
   ],
   "source": [
    "# Number of clients in each group\n",
    "loyalty_groups=RFM_analisys['Loyalty'].value_counts()\n",
    "\n",
    "plt.figure(figsize=(10, 6))\n",
    "sns.barplot(x=loyalty_groups.values, y=loyalty_groups.index)\n",
    "plt.title('Number of customers by loyalty group', fontsize=16)\n",
    "plt.xlabel('Number of clients', fontsize=14)\n",
    "plt.ylabel('Loyalty Level', fontsize=14)\n",
    "plt.show()"
   ]
  },
  {
   "cell_type": "markdown",
   "id": "af9b23ca",
   "metadata": {
    "papermill": {
     "duration": 0.03482,
     "end_time": "2023-11-30T17:57:48.290453",
     "exception": false,
     "start_time": "2023-11-30T17:57:48.255633",
     "status": "completed"
    },
    "tags": []
   },
   "source": [
    "The following table can help us identify the big clients and their current Loyalty status."
   ]
  },
  {
   "cell_type": "code",
   "execution_count": 65,
   "id": "da205d3d",
   "metadata": {
    "execution": {
     "iopub.execute_input": "2023-11-30T17:57:48.363475Z",
     "iopub.status.busy": "2023-11-30T17:57:48.361643Z",
     "iopub.status.idle": "2023-11-30T17:57:48.381123Z",
     "shell.execute_reply": "2023-11-30T17:57:48.378957Z"
    },
    "papermill": {
     "duration": 0.059149,
     "end_time": "2023-11-30T17:57:48.383963",
     "exception": false,
     "start_time": "2023-11-30T17:57:48.324814",
     "status": "completed"
    },
    "tags": []
   },
   "outputs": [
    {
     "data": {
      "text/html": [
       "<div>\n",
       "<style scoped>\n",
       "    .dataframe tbody tr th:only-of-type {\n",
       "        vertical-align: middle;\n",
       "    }\n",
       "\n",
       "    .dataframe tbody tr th {\n",
       "        vertical-align: top;\n",
       "    }\n",
       "\n",
       "    .dataframe thead th {\n",
       "        text-align: right;\n",
       "    }\n",
       "</style>\n",
       "<table border=\"1\" class=\"dataframe\">\n",
       "  <thead>\n",
       "    <tr style=\"text-align: right;\">\n",
       "      <th></th>\n",
       "      <th>Client ID</th>\n",
       "      <th>Delivery amount increase</th>\n",
       "      <th>Growth of delivery amount %</th>\n",
       "      <th>Recency</th>\n",
       "      <th>Frequency</th>\n",
       "      <th>Monetary</th>\n",
       "      <th>Loyalty</th>\n",
       "    </tr>\n",
       "  </thead>\n",
       "  <tbody>\n",
       "    <tr>\n",
       "      <th>18</th>\n",
       "      <td>7158</td>\n",
       "      <td>1816288.0</td>\n",
       "      <td>829.4</td>\n",
       "      <td>1</td>\n",
       "      <td>1</td>\n",
       "      <td>3</td>\n",
       "      <td>Lost</td>\n",
       "    </tr>\n",
       "    <tr>\n",
       "      <th>9</th>\n",
       "      <td>7134</td>\n",
       "      <td>1024645.0</td>\n",
       "      <td>225.4</td>\n",
       "      <td>3</td>\n",
       "      <td>1</td>\n",
       "      <td>3</td>\n",
       "      <td>Beginners</td>\n",
       "    </tr>\n",
       "    <tr>\n",
       "      <th>4</th>\n",
       "      <td>7161</td>\n",
       "      <td>920669.0</td>\n",
       "      <td>183.8</td>\n",
       "      <td>2</td>\n",
       "      <td>1</td>\n",
       "      <td>3</td>\n",
       "      <td>Sleeping</td>\n",
       "    </tr>\n",
       "    <tr>\n",
       "      <th>19</th>\n",
       "      <td>7140</td>\n",
       "      <td>686793.0</td>\n",
       "      <td>1367.9</td>\n",
       "      <td>2</td>\n",
       "      <td>3</td>\n",
       "      <td>1</td>\n",
       "      <td>loyal sleeping customers</td>\n",
       "    </tr>\n",
       "    <tr>\n",
       "      <th>20</th>\n",
       "      <td>7135</td>\n",
       "      <td>525219.0</td>\n",
       "      <td>1266.4</td>\n",
       "      <td>1</td>\n",
       "      <td>3</td>\n",
       "      <td>1</td>\n",
       "      <td>Loyal customers who have lost activity</td>\n",
       "    </tr>\n",
       "    <tr>\n",
       "      <th>2</th>\n",
       "      <td>7126</td>\n",
       "      <td>495206.0</td>\n",
       "      <td>81.2</td>\n",
       "      <td>3</td>\n",
       "      <td>3</td>\n",
       "      <td>3</td>\n",
       "      <td>Regular customers</td>\n",
       "    </tr>\n",
       "    <tr>\n",
       "      <th>3</th>\n",
       "      <td>7118</td>\n",
       "      <td>487833.0</td>\n",
       "      <td>82.1</td>\n",
       "      <td>2</td>\n",
       "      <td>3</td>\n",
       "      <td>2</td>\n",
       "      <td>loyal sleeping customers</td>\n",
       "    </tr>\n",
       "    <tr>\n",
       "      <th>1</th>\n",
       "      <td>7136</td>\n",
       "      <td>417835.0</td>\n",
       "      <td>47.5</td>\n",
       "      <td>1</td>\n",
       "      <td>1</td>\n",
       "      <td>3</td>\n",
       "      <td>Lost</td>\n",
       "    </tr>\n",
       "    <tr>\n",
       "      <th>17</th>\n",
       "      <td>7139</td>\n",
       "      <td>371310.0</td>\n",
       "      <td>132.0</td>\n",
       "      <td>1</td>\n",
       "      <td>3</td>\n",
       "      <td>1</td>\n",
       "      <td>Loyal customers who have lost activity</td>\n",
       "    </tr>\n",
       "    <tr>\n",
       "      <th>15</th>\n",
       "      <td>7138</td>\n",
       "      <td>349762.0</td>\n",
       "      <td>108.0</td>\n",
       "      <td>2</td>\n",
       "      <td>3</td>\n",
       "      <td>2</td>\n",
       "      <td>loyal sleeping customers</td>\n",
       "    </tr>\n",
       "    <tr>\n",
       "      <th>8</th>\n",
       "      <td>7121</td>\n",
       "      <td>327509.0</td>\n",
       "      <td>69.7</td>\n",
       "      <td>3</td>\n",
       "      <td>3</td>\n",
       "      <td>2</td>\n",
       "      <td>Regular customers</td>\n",
       "    </tr>\n",
       "    <tr>\n",
       "      <th>12</th>\n",
       "      <td>7146</td>\n",
       "      <td>320477.0</td>\n",
       "      <td>87.3</td>\n",
       "      <td>1</td>\n",
       "      <td>3</td>\n",
       "      <td>2</td>\n",
       "      <td>Loyal customers who have lost activity</td>\n",
       "    </tr>\n",
       "    <tr>\n",
       "      <th>13</th>\n",
       "      <td>7131</td>\n",
       "      <td>128316.0</td>\n",
       "      <td>35.5</td>\n",
       "      <td>1</td>\n",
       "      <td>3</td>\n",
       "      <td>1</td>\n",
       "      <td>Loyal customers who have lost activity</td>\n",
       "    </tr>\n",
       "    <tr>\n",
       "      <th>10</th>\n",
       "      <td>7125</td>\n",
       "      <td>126930.0</td>\n",
       "      <td>29.7</td>\n",
       "      <td>1</td>\n",
       "      <td>3</td>\n",
       "      <td>1</td>\n",
       "      <td>Loyal customers who have lost activity</td>\n",
       "    </tr>\n",
       "    <tr>\n",
       "      <th>6</th>\n",
       "      <td>7128</td>\n",
       "      <td>97885.0</td>\n",
       "      <td>20.3</td>\n",
       "      <td>3</td>\n",
       "      <td>3</td>\n",
       "      <td>2</td>\n",
       "      <td>Regular customers</td>\n",
       "    </tr>\n",
       "    <tr>\n",
       "      <th>16</th>\n",
       "      <td>7155</td>\n",
       "      <td>95765.0</td>\n",
       "      <td>30.4</td>\n",
       "      <td>1</td>\n",
       "      <td>3</td>\n",
       "      <td>1</td>\n",
       "      <td>Loyal customers who have lost activity</td>\n",
       "    </tr>\n",
       "    <tr>\n",
       "      <th>11</th>\n",
       "      <td>7110</td>\n",
       "      <td>49752.0</td>\n",
       "      <td>11.7</td>\n",
       "      <td>3</td>\n",
       "      <td>3</td>\n",
       "      <td>1</td>\n",
       "      <td>Regular customers</td>\n",
       "    </tr>\n",
       "    <tr>\n",
       "      <th>14</th>\n",
       "      <td>7114</td>\n",
       "      <td>10845.0</td>\n",
       "      <td>3.2</td>\n",
       "      <td>1</td>\n",
       "      <td>3</td>\n",
       "      <td>1</td>\n",
       "      <td>Loyal customers who have lost activity</td>\n",
       "    </tr>\n",
       "    <tr>\n",
       "      <th>7</th>\n",
       "      <td>7129</td>\n",
       "      <td>-78181.0</td>\n",
       "      <td>-16.3</td>\n",
       "      <td>2</td>\n",
       "      <td>3</td>\n",
       "      <td>1</td>\n",
       "      <td>loyal sleeping customers</td>\n",
       "    </tr>\n",
       "    <tr>\n",
       "      <th>5</th>\n",
       "      <td>7111</td>\n",
       "      <td>-156860.0</td>\n",
       "      <td>-31.6</td>\n",
       "      <td>1</td>\n",
       "      <td>3</td>\n",
       "      <td>1</td>\n",
       "      <td>Loyal customers who have lost activity</td>\n",
       "    </tr>\n",
       "    <tr>\n",
       "      <th>0</th>\n",
       "      <td>7167</td>\n",
       "      <td>-682166.0</td>\n",
       "      <td>-48.9</td>\n",
       "      <td>3</td>\n",
       "      <td>1</td>\n",
       "      <td>3</td>\n",
       "      <td>Beginners</td>\n",
       "    </tr>\n",
       "  </tbody>\n",
       "</table>\n",
       "</div>"
      ],
      "text/plain": [
       "    Client ID  Delivery amount increase  Growth of delivery amount %  Recency  \\\n",
       "18       7158                 1816288.0                        829.4        1   \n",
       "9        7134                 1024645.0                        225.4        3   \n",
       "4        7161                  920669.0                        183.8        2   \n",
       "19       7140                  686793.0                       1367.9        2   \n",
       "20       7135                  525219.0                       1266.4        1   \n",
       "2        7126                  495206.0                         81.2        3   \n",
       "3        7118                  487833.0                         82.1        2   \n",
       "1        7136                  417835.0                         47.5        1   \n",
       "17       7139                  371310.0                        132.0        1   \n",
       "15       7138                  349762.0                        108.0        2   \n",
       "8        7121                  327509.0                         69.7        3   \n",
       "12       7146                  320477.0                         87.3        1   \n",
       "13       7131                  128316.0                         35.5        1   \n",
       "10       7125                  126930.0                         29.7        1   \n",
       "6        7128                   97885.0                         20.3        3   \n",
       "16       7155                   95765.0                         30.4        1   \n",
       "11       7110                   49752.0                         11.7        3   \n",
       "14       7114                   10845.0                          3.2        1   \n",
       "7        7129                  -78181.0                        -16.3        2   \n",
       "5        7111                 -156860.0                        -31.6        1   \n",
       "0        7167                 -682166.0                        -48.9        3   \n",
       "\n",
       "    Frequency  Monetary                                 Loyalty  \n",
       "18          1         3                                    Lost  \n",
       "9           1         3                               Beginners  \n",
       "4           1         3                                Sleeping  \n",
       "19          3         1                loyal sleeping customers  \n",
       "20          3         1  Loyal customers who have lost activity  \n",
       "2           3         3                       Regular customers  \n",
       "3           3         2                loyal sleeping customers  \n",
       "1           1         3                                    Lost  \n",
       "17          3         1  Loyal customers who have lost activity  \n",
       "15          3         2                loyal sleeping customers  \n",
       "8           3         2                       Regular customers  \n",
       "12          3         2  Loyal customers who have lost activity  \n",
       "13          3         1  Loyal customers who have lost activity  \n",
       "10          3         1  Loyal customers who have lost activity  \n",
       "6           3         2                       Regular customers  \n",
       "16          3         1  Loyal customers who have lost activity  \n",
       "11          3         1                       Regular customers  \n",
       "14          3         1  Loyal customers who have lost activity  \n",
       "7           3         1                loyal sleeping customers  \n",
       "5           3         1  Loyal customers who have lost activity  \n",
       "0           1         3                               Beginners  "
      ]
     },
     "execution_count": 65,
     "metadata": {},
     "output_type": "execute_result"
    }
   ],
   "source": [
    "# Identifying important customers and their Loyalty status\n",
    "RFM_analisys.sort_values(by='Delivery amount increase', ascending=False)"
   ]
  },
  {
   "cell_type": "markdown",
   "id": "75caa304",
   "metadata": {
    "papermill": {
     "duration": 0.036144,
     "end_time": "2023-11-30T17:57:48.454850",
     "exception": false,
     "start_time": "2023-11-30T17:57:48.418706",
     "status": "completed"
    },
    "tags": []
   },
   "source": [
    "<hr>\n",
    "<h1 style=\"\n",
    "          text-align: center;\n",
    "          border-radius:5px; \n",
    "          background-color: #37373b; \n",
    "          color:#f5f2e9; \n",
    "          padding:15px;\n",
    "          letter-spacing: 2px; \n",
    "          font-family: 'JetBrains Mono';\n",
    "          font-size:38px;\n",
    "          border-left: 3px solid #f2bd1d; \n",
    "          border-bottom: 3px outset #f2bd1d;\n",
    "          margin-bottom: 10px;\"> Seller Revenue Analysis (Seasonality)</h1>"
   ]
  },
  {
   "cell_type": "markdown",
   "id": "24f132f8",
   "metadata": {
    "papermill": {
     "duration": 0.03373,
     "end_time": "2023-11-30T17:57:48.525671",
     "exception": false,
     "start_time": "2023-11-30T17:57:48.491941",
     "status": "completed"
    },
    "tags": []
   },
   "source": [
    "We aim to see whether there is seasonality based on the 2019 and 2020 data. We visualize the Delivery amount for each month and look for a repeating pattern between the two years."
   ]
  },
  {
   "cell_type": "code",
   "execution_count": 66,
   "id": "b645e4f5",
   "metadata": {
    "execution": {
     "iopub.execute_input": "2023-11-30T17:57:48.602752Z",
     "iopub.status.busy": "2023-11-30T17:57:48.602216Z",
     "iopub.status.idle": "2023-11-30T17:57:48.634322Z",
     "shell.execute_reply": "2023-11-30T17:57:48.633200Z"
    },
    "papermill": {
     "duration": 0.072953,
     "end_time": "2023-11-30T17:57:48.636707",
     "exception": false,
     "start_time": "2023-11-30T17:57:48.563754",
     "status": "completed"
    },
    "tags": []
   },
   "outputs": [
    {
     "data": {
      "text/html": [
       "<div>\n",
       "<style scoped>\n",
       "    .dataframe tbody tr th:only-of-type {\n",
       "        vertical-align: middle;\n",
       "    }\n",
       "\n",
       "    .dataframe tbody tr th {\n",
       "        vertical-align: top;\n",
       "    }\n",
       "\n",
       "    .dataframe thead tr th {\n",
       "        text-align: left;\n",
       "    }\n",
       "</style>\n",
       "<table border=\"1\" class=\"dataframe\">\n",
       "  <thead>\n",
       "    <tr>\n",
       "      <th></th>\n",
       "      <th>Month</th>\n",
       "      <th>Delivery amount</th>\n",
       "    </tr>\n",
       "    <tr>\n",
       "      <th></th>\n",
       "      <th></th>\n",
       "      <th>median</th>\n",
       "    </tr>\n",
       "  </thead>\n",
       "  <tbody>\n",
       "    <tr>\n",
       "      <th>0</th>\n",
       "      <td>1</td>\n",
       "      <td>35503.0</td>\n",
       "    </tr>\n",
       "    <tr>\n",
       "      <th>1</th>\n",
       "      <td>2</td>\n",
       "      <td>36301.0</td>\n",
       "    </tr>\n",
       "    <tr>\n",
       "      <th>2</th>\n",
       "      <td>3</td>\n",
       "      <td>28194.5</td>\n",
       "    </tr>\n",
       "    <tr>\n",
       "      <th>3</th>\n",
       "      <td>4</td>\n",
       "      <td>27543.5</td>\n",
       "    </tr>\n",
       "    <tr>\n",
       "      <th>4</th>\n",
       "      <td>5</td>\n",
       "      <td>21949.0</td>\n",
       "    </tr>\n",
       "    <tr>\n",
       "      <th>5</th>\n",
       "      <td>6</td>\n",
       "      <td>33641.5</td>\n",
       "    </tr>\n",
       "    <tr>\n",
       "      <th>6</th>\n",
       "      <td>7</td>\n",
       "      <td>36527.0</td>\n",
       "    </tr>\n",
       "    <tr>\n",
       "      <th>7</th>\n",
       "      <td>8</td>\n",
       "      <td>38005.0</td>\n",
       "    </tr>\n",
       "    <tr>\n",
       "      <th>8</th>\n",
       "      <td>9</td>\n",
       "      <td>27851.0</td>\n",
       "    </tr>\n",
       "    <tr>\n",
       "      <th>9</th>\n",
       "      <td>10</td>\n",
       "      <td>26952.0</td>\n",
       "    </tr>\n",
       "    <tr>\n",
       "      <th>10</th>\n",
       "      <td>11</td>\n",
       "      <td>52318.0</td>\n",
       "    </tr>\n",
       "    <tr>\n",
       "      <th>11</th>\n",
       "      <td>12</td>\n",
       "      <td>32666.5</td>\n",
       "    </tr>\n",
       "  </tbody>\n",
       "</table>\n",
       "</div>"
      ],
      "text/plain": [
       "   Month Delivery amount\n",
       "                  median\n",
       "0      1         35503.0\n",
       "1      2         36301.0\n",
       "2      3         28194.5\n",
       "3      4         27543.5\n",
       "4      5         21949.0\n",
       "5      6         33641.5\n",
       "6      7         36527.0\n",
       "7      8         38005.0\n",
       "8      9         27851.0\n",
       "9     10         26952.0\n",
       "10    11         52318.0\n",
       "11    12         32666.5"
      ]
     },
     "execution_count": 66,
     "metadata": {},
     "output_type": "execute_result"
    }
   ],
   "source": [
    "# Extracting the month from the date column\n",
    "data_2019['Month'] = data_2019['Date of delivery'].dt.month\n",
    "data_2020['Month'] = data_2020['Date of delivery'].dt.month\n",
    "\n",
    "# Grouping data by month and keeping the median of the Delivery amount\n",
    "pivot_2019 = data_2019.groupby('Month', as_index=False).agg({'Delivery amount':['median']})\n",
    "pivot_2020 = pd.pivot_table(data_2020, index=['Month'], aggfunc={'Delivery amount': [np.median],}).reset_index()\n",
    "\n",
    "pivot_2019,\n",
    "pivot_2020"
   ]
  },
  {
   "cell_type": "code",
   "execution_count": 67,
   "id": "b08b9387",
   "metadata": {
    "execution": {
     "iopub.execute_input": "2023-11-30T17:57:48.708219Z",
     "iopub.status.busy": "2023-11-30T17:57:48.707513Z",
     "iopub.status.idle": "2023-11-30T17:57:49.295787Z",
     "shell.execute_reply": "2023-11-30T17:57:49.294219Z"
    },
    "papermill": {
     "duration": 0.628025,
     "end_time": "2023-11-30T17:57:49.299070",
     "exception": false,
     "start_time": "2023-11-30T17:57:48.671045",
     "status": "completed"
    },
    "tags": []
   },
   "outputs": [
    {
     "data": {
      "image/png": "[encoded data removed]",
      "text/plain": [
       "<Figure size 1200x600 with 2 Axes>"
      ]
     },
     "metadata": {},
     "output_type": "display_data"
    }
   ],
   "source": [
    "# Plotting Delivery amount per month for 2019 and 2020\n",
    "fig, axs = plt.subplots(1, 2, figsize=(12, 6))\n",
    "fig.suptitle('Supply amount (median value)')\n",
    "sns.barplot(x=pivot_2019['Month'], y=pivot_2019['Delivery amount', 'median'], ax=axs[0], palette='plasma')\n",
    "axs[0].set_title('2019', fontsize=14)\n",
    "axs[0].set_ylabel('Delivery amount', fontsize=12)\n",
    "axs[0].set_xlabel('Month', fontsize=12)\n",
    "sns.barplot(x=pivot_2020['Month'], y=pivot_2020['Delivery amount', 'median'], ax=axs[1], palette='plasma')\n",
    "axs[1].set_ylabel('Delivery amount', fontsize=12)\n",
    "axs[1].set_xlabel('Month', fontsize=12)\n",
    "plt.show()"
   ]
  },
  {
   "cell_type": "markdown",
   "id": "85011ce4",
   "metadata": {
    "papermill": {
     "duration": 0.039081,
     "end_time": "2023-11-30T17:57:49.374072",
     "exception": false,
     "start_time": "2023-11-30T17:57:49.334991",
     "status": "completed"
    },
    "tags": []
   },
   "source": [
    "There appears to be no seasonality."
   ]
  }
 ],
 "metadata": {
  "kaggle": {
   "accelerator": "none",
   "dataSources": [
    {
     "datasetId": 3613072,
     "sourceId": 6283408,
     "sourceType": "datasetVersion"
    }
   ],
   "dockerImageVersionId": 30527,
   "isGpuEnabled": false,
   "isInternetEnabled": false,
   "language": "python",
   "sourceType": "notebook"
  },
  "kernelspec": {
   "display_name": "Python 3",
   "language": "python",
   "name": "python3"
  },
  "language_info": {
   "codemirror_mode": {
    "name": "ipython",
    "version": 3
   },
   "file_extension": ".py",
   "mimetype": "text/x-python",
   "name": "python",
   "nbconvert_exporter": "python",
   "pygments_lexer": "ipython3",
   "version": "3.10.12"
  },
  "papermill": {
   "default_parameters": {},
   "duration": 80.186629,
   "end_time": "2023-11-30T17:57:50.638969",
   "environment_variables": {},
   "exception": null,
   "input_path": "__notebook__.ipynb",
   "output_path": "__notebook__.ipynb",
   "parameters": {},
   "start_time": "2023-11-30T17:56:30.452340",
   "version": "2.4.0"
  }
 },
 "nbformat": 4,
 "nbformat_minor": 5
}
